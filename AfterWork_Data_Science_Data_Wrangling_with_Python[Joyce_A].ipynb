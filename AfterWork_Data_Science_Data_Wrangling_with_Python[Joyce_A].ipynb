{
  "nbformat": 4,
  "nbformat_minor": 0,
  "metadata": {
    "colab": {
      "name": "AfterWork Data Science: Data Wrangling with Python - Guiding Template [Joyce A]",
      "provenance": [],
      "collapsed_sections": [
        "g8b_wULuodN8",
        "HPQviDmNtta8"
      ]
    },
    "kernelspec": {
      "name": "python3",
      "display_name": "Python 3"
    }
  },
  "cells": [
    {
      "cell_type": "markdown",
      "metadata": {
        "id": "y1HW8GjoS7AN"
      },
      "source": [
        "# AfterWork Data Science: Data Wrangling with Python Project"
      ]
    },
    {
      "cell_type": "markdown",
      "metadata": {
        "id": "kLG2VTrnTvYL"
      },
      "source": [
        "## 1. Defining the Question"
      ]
    },
    {
      "cell_type": "markdown",
      "metadata": {
        "id": "XecOwPNorl2W"
      },
      "source": [
        "### a) Specifying the Data Analysis Question"
      ]
    },
    {
      "cell_type": "markdown",
      "metadata": {
        "id": "pZykmRrbGd13"
      },
      "source": [
        "Specify the reasearch question that you'll be answering."
      ]
    },
    {
      "cell_type": "markdown",
      "metadata": {
        "id": "ym7-i7auXZPg"
      },
      "source": [
        "> i.e. Which was the most improved country year 2017 - 2018 as per the GDP ranking?"
      ]
    },
    {
      "cell_type": "markdown",
      "metadata": {
        "id": "J4wfHZwQrs-t"
      },
      "source": [
        "### b) Defining the Metric for Success"
      ]
    },
    {
      "cell_type": "markdown",
      "metadata": {
        "id": "IuQcoaLFGjkH"
      },
      "source": [
        "How will you know that your solution will have satisfied your research question?"
      ]
    },
    {
      "cell_type": "markdown",
      "metadata": {
        "id": "a9BPYqunry97"
      },
      "source": [
        "### c) Understanding the context "
      ]
    },
    {
      "cell_type": "markdown",
      "metadata": {
        "id": "2jeqV9VPG1tg"
      },
      "source": [
        "Provide some background information...."
      ]
    },
    {
      "cell_type": "markdown",
      "metadata": {
        "id": "7KMRBJ7zr9HD"
      },
      "source": [
        "### d) Recording the Experimental Design"
      ]
    },
    {
      "cell_type": "markdown",
      "metadata": {
        "id": "YG0dB0_PG5_i"
      },
      "source": [
        "Describe the steps/approach that you will use to answer the given question."
      ]
    },
    {
      "cell_type": "markdown",
      "metadata": {
        "id": "zSGyg6kWsBUl"
      },
      "source": [
        "### e) Data Relevance"
      ]
    },
    {
      "cell_type": "markdown",
      "metadata": {
        "id": "UogUWzkTHJ9D"
      },
      "source": [
        "How relevant was the provided data?"
      ]
    },
    {
      "cell_type": "markdown",
      "metadata": {
        "id": "iUNbvIvnT7ep"
      },
      "source": [
        "## 2. Reading the Data"
      ]
    },
    {
      "cell_type": "code",
      "metadata": {
        "id": "STUSuuyTTBgx"
      },
      "source": [
        "# Importing our libraries\n",
        "# ---\n",
        "#\n",
        "import pandas as pd\n",
        "import numpy as np"
      ],
      "execution_count": 1,
      "outputs": []
    },
    {
      "cell_type": "code",
      "metadata": {
        "id": "XJn2KjW-WMlG"
      },
      "source": [
        "# Load the data below\n",
        "# --- \n",
        "# Dataset url = https://bit.ly/BusBreakdownDataset\n",
        "# --- \n",
        "# \n",
        "busbreakdown= pd.read_csv('https://bit.ly/BusBreakdownDataset')"
      ],
      "execution_count": 2,
      "outputs": []
    },
    {
      "cell_type": "code",
      "metadata": {
        "id": "7168_y8EhZg7",
        "colab": {
          "base_uri": "https://localhost:8080/",
          "height": 395
        },
        "outputId": "78abfa49-af08-4a14-a5dc-f604d02e2429"
      },
      "source": [
        "# Checking the first 5 rows of data\n",
        "# ---\n",
        "#\n",
        "busbreakdown.head()"
      ],
      "execution_count": 3,
      "outputs": [
        {
          "output_type": "execute_result",
          "data": {
            "text/html": [
              "<div>\n",
              "<style scoped>\n",
              "    .dataframe tbody tr th:only-of-type {\n",
              "        vertical-align: middle;\n",
              "    }\n",
              "\n",
              "    .dataframe tbody tr th {\n",
              "        vertical-align: top;\n",
              "    }\n",
              "\n",
              "    .dataframe thead th {\n",
              "        text-align: right;\n",
              "    }\n",
              "</style>\n",
              "<table border=\"1\" class=\"dataframe\">\n",
              "  <thead>\n",
              "    <tr style=\"text-align: right;\">\n",
              "      <th></th>\n",
              "      <th>School_Year</th>\n",
              "      <th>Busbreakdown_ID</th>\n",
              "      <th>Run_Type</th>\n",
              "      <th>Bus_No</th>\n",
              "      <th>Route_Number</th>\n",
              "      <th>Reason</th>\n",
              "      <th>Schools_Serviced</th>\n",
              "      <th>Occurred_On</th>\n",
              "      <th>Created_On</th>\n",
              "      <th>Boro</th>\n",
              "      <th>Bus_Company_Name</th>\n",
              "      <th>How_Long_Delayed</th>\n",
              "      <th>Number_Of_Students_On_The_Bus</th>\n",
              "      <th>Has_Contractor_Notified_Schools</th>\n",
              "      <th>Has_Contractor_Notified_Parents</th>\n",
              "      <th>Have_You_Alerted_OPT</th>\n",
              "      <th>Informed_On</th>\n",
              "      <th>Incident_Number</th>\n",
              "      <th>Last_Updated_On</th>\n",
              "      <th>Breakdown_or_Running_Late</th>\n",
              "      <th>School_Age_or_PreK</th>\n",
              "    </tr>\n",
              "  </thead>\n",
              "  <tbody>\n",
              "    <tr>\n",
              "      <th>0</th>\n",
              "      <td>2015-2016</td>\n",
              "      <td>1227538</td>\n",
              "      <td>Special Ed AM Run</td>\n",
              "      <td>2621</td>\n",
              "      <td>J711</td>\n",
              "      <td>Heavy Traffic</td>\n",
              "      <td>75003</td>\n",
              "      <td>11/05/2015 08:10:00 AM</td>\n",
              "      <td>11/05/2015 08:12:00 AM</td>\n",
              "      <td>New Jersey</td>\n",
              "      <td>RELIANT TRANS, INC. (B232</td>\n",
              "      <td>NaN</td>\n",
              "      <td>11</td>\n",
              "      <td>Yes</td>\n",
              "      <td>No</td>\n",
              "      <td>Yes</td>\n",
              "      <td>11/05/2015 08:12:00 AM</td>\n",
              "      <td>NaN</td>\n",
              "      <td>11/05/2015 08:12:14 AM</td>\n",
              "      <td>Running Late</td>\n",
              "      <td>School-Age</td>\n",
              "    </tr>\n",
              "    <tr>\n",
              "      <th>1</th>\n",
              "      <td>2015-2016</td>\n",
              "      <td>1227539</td>\n",
              "      <td>Special Ed AM Run</td>\n",
              "      <td>1260</td>\n",
              "      <td>M351</td>\n",
              "      <td>Heavy Traffic</td>\n",
              "      <td>06716</td>\n",
              "      <td>11/05/2015 08:10:00 AM</td>\n",
              "      <td>11/05/2015 08:12:00 AM</td>\n",
              "      <td>Manhattan</td>\n",
              "      <td>HOYT TRANSPORTATION CORP.</td>\n",
              "      <td>20MNS</td>\n",
              "      <td>2</td>\n",
              "      <td>Yes</td>\n",
              "      <td>Yes</td>\n",
              "      <td>No</td>\n",
              "      <td>11/05/2015 08:12:00 AM</td>\n",
              "      <td>NaN</td>\n",
              "      <td>11/05/2015 08:13:34 AM</td>\n",
              "      <td>Running Late</td>\n",
              "      <td>School-Age</td>\n",
              "    </tr>\n",
              "    <tr>\n",
              "      <th>2</th>\n",
              "      <td>2015-2016</td>\n",
              "      <td>1227540</td>\n",
              "      <td>Pre-K/EI</td>\n",
              "      <td>418</td>\n",
              "      <td>3</td>\n",
              "      <td>Heavy Traffic</td>\n",
              "      <td>C445</td>\n",
              "      <td>11/05/2015 08:09:00 AM</td>\n",
              "      <td>11/05/2015 08:13:00 AM</td>\n",
              "      <td>Bronx</td>\n",
              "      <td>G.V.C., LTD.</td>\n",
              "      <td>15MIN</td>\n",
              "      <td>8</td>\n",
              "      <td>Yes</td>\n",
              "      <td>Yes</td>\n",
              "      <td>Yes</td>\n",
              "      <td>11/05/2015 08:13:00 AM</td>\n",
              "      <td>NaN</td>\n",
              "      <td>11/05/2015 08:13:22 AM</td>\n",
              "      <td>Running Late</td>\n",
              "      <td>Pre-K</td>\n",
              "    </tr>\n",
              "    <tr>\n",
              "      <th>3</th>\n",
              "      <td>2015-2016</td>\n",
              "      <td>1227541</td>\n",
              "      <td>Special Ed AM Run</td>\n",
              "      <td>4522</td>\n",
              "      <td>M271</td>\n",
              "      <td>Heavy Traffic</td>\n",
              "      <td>02699</td>\n",
              "      <td>11/05/2015 08:12:00 AM</td>\n",
              "      <td>11/05/2015 08:14:00 AM</td>\n",
              "      <td>Manhattan</td>\n",
              "      <td>RELIANT TRANS, INC. (B232</td>\n",
              "      <td>15 MIN</td>\n",
              "      <td>6</td>\n",
              "      <td>No</td>\n",
              "      <td>No</td>\n",
              "      <td>No</td>\n",
              "      <td>11/05/2015 08:14:00 AM</td>\n",
              "      <td>NaN</td>\n",
              "      <td>11/05/2015 08:14:04 AM</td>\n",
              "      <td>Running Late</td>\n",
              "      <td>School-Age</td>\n",
              "    </tr>\n",
              "    <tr>\n",
              "      <th>4</th>\n",
              "      <td>2015-2016</td>\n",
              "      <td>1227542</td>\n",
              "      <td>Special Ed AM Run</td>\n",
              "      <td>3124</td>\n",
              "      <td>M373</td>\n",
              "      <td>Heavy Traffic</td>\n",
              "      <td>02116</td>\n",
              "      <td>11/05/2015 08:13:00 AM</td>\n",
              "      <td>11/05/2015 08:14:00 AM</td>\n",
              "      <td>Manhattan</td>\n",
              "      <td>RELIANT TRANS, INC. (B232</td>\n",
              "      <td>NaN</td>\n",
              "      <td>6</td>\n",
              "      <td>No</td>\n",
              "      <td>No</td>\n",
              "      <td>No</td>\n",
              "      <td>11/05/2015 08:14:00 AM</td>\n",
              "      <td>NaN</td>\n",
              "      <td>11/05/2015 08:14:08 AM</td>\n",
              "      <td>Running Late</td>\n",
              "      <td>School-Age</td>\n",
              "    </tr>\n",
              "  </tbody>\n",
              "</table>\n",
              "</div>"
            ],
            "text/plain": [
              "  School_Year  Busbreakdown_ID  ... Breakdown_or_Running_Late School_Age_or_PreK\n",
              "0   2015-2016          1227538  ...              Running Late         School-Age\n",
              "1   2015-2016          1227539  ...              Running Late         School-Age\n",
              "2   2015-2016          1227540  ...              Running Late              Pre-K\n",
              "3   2015-2016          1227541  ...              Running Late         School-Age\n",
              "4   2015-2016          1227542  ...              Running Late         School-Age\n",
              "\n",
              "[5 rows x 21 columns]"
            ]
          },
          "metadata": {},
          "execution_count": 3
        }
      ]
    },
    {
      "cell_type": "code",
      "metadata": {
        "id": "87pOSl5MhcdL",
        "colab": {
          "base_uri": "https://localhost:8080/",
          "height": 395
        },
        "outputId": "53b8d1df-22de-4b06-f6e4-781f73aa7001"
      },
      "source": [
        "# Checking the last 5 rows of data\n",
        "# ---\n",
        "#\n",
        "busbreakdown.tail()"
      ],
      "execution_count": 4,
      "outputs": [
        {
          "output_type": "execute_result",
          "data": {
            "text/html": [
              "<div>\n",
              "<style scoped>\n",
              "    .dataframe tbody tr th:only-of-type {\n",
              "        vertical-align: middle;\n",
              "    }\n",
              "\n",
              "    .dataframe tbody tr th {\n",
              "        vertical-align: top;\n",
              "    }\n",
              "\n",
              "    .dataframe thead th {\n",
              "        text-align: right;\n",
              "    }\n",
              "</style>\n",
              "<table border=\"1\" class=\"dataframe\">\n",
              "  <thead>\n",
              "    <tr style=\"text-align: right;\">\n",
              "      <th></th>\n",
              "      <th>School_Year</th>\n",
              "      <th>Busbreakdown_ID</th>\n",
              "      <th>Run_Type</th>\n",
              "      <th>Bus_No</th>\n",
              "      <th>Route_Number</th>\n",
              "      <th>Reason</th>\n",
              "      <th>Schools_Serviced</th>\n",
              "      <th>Occurred_On</th>\n",
              "      <th>Created_On</th>\n",
              "      <th>Boro</th>\n",
              "      <th>Bus_Company_Name</th>\n",
              "      <th>How_Long_Delayed</th>\n",
              "      <th>Number_Of_Students_On_The_Bus</th>\n",
              "      <th>Has_Contractor_Notified_Schools</th>\n",
              "      <th>Has_Contractor_Notified_Parents</th>\n",
              "      <th>Have_You_Alerted_OPT</th>\n",
              "      <th>Informed_On</th>\n",
              "      <th>Incident_Number</th>\n",
              "      <th>Last_Updated_On</th>\n",
              "      <th>Breakdown_or_Running_Late</th>\n",
              "      <th>School_Age_or_PreK</th>\n",
              "    </tr>\n",
              "  </thead>\n",
              "  <tbody>\n",
              "    <tr>\n",
              "      <th>281105</th>\n",
              "      <td>2016-2017</td>\n",
              "      <td>1338452</td>\n",
              "      <td>Pre-K/EI</td>\n",
              "      <td>9345</td>\n",
              "      <td>2</td>\n",
              "      <td>Heavy Traffic</td>\n",
              "      <td>C530</td>\n",
              "      <td>04/05/2017 08:00:00 AM</td>\n",
              "      <td>04/05/2017 08:10:00 AM</td>\n",
              "      <td>Bronx</td>\n",
              "      <td>G.V.C., LTD.</td>\n",
              "      <td>15-20</td>\n",
              "      <td>7</td>\n",
              "      <td>Yes</td>\n",
              "      <td>Yes</td>\n",
              "      <td>No</td>\n",
              "      <td>04/05/2017 08:10:00 AM</td>\n",
              "      <td>NaN</td>\n",
              "      <td>04/05/2017 08:10:15 AM</td>\n",
              "      <td>Running Late</td>\n",
              "      <td>Pre-K</td>\n",
              "    </tr>\n",
              "    <tr>\n",
              "      <th>281106</th>\n",
              "      <td>2016-2017</td>\n",
              "      <td>1341521</td>\n",
              "      <td>Pre-K/EI</td>\n",
              "      <td>0001</td>\n",
              "      <td>5</td>\n",
              "      <td>Heavy Traffic</td>\n",
              "      <td>C579</td>\n",
              "      <td>04/24/2017 07:42:00 AM</td>\n",
              "      <td>04/24/2017 07:44:00 AM</td>\n",
              "      <td>Bronx</td>\n",
              "      <td>G.V.C., LTD.</td>\n",
              "      <td>20 MINS</td>\n",
              "      <td>0</td>\n",
              "      <td>Yes</td>\n",
              "      <td>Yes</td>\n",
              "      <td>No</td>\n",
              "      <td>04/24/2017 07:44:00 AM</td>\n",
              "      <td>NaN</td>\n",
              "      <td>04/24/2017 07:44:15 AM</td>\n",
              "      <td>Running Late</td>\n",
              "      <td>Pre-K</td>\n",
              "    </tr>\n",
              "    <tr>\n",
              "      <th>281107</th>\n",
              "      <td>2016-2017</td>\n",
              "      <td>1353044</td>\n",
              "      <td>Special Ed PM Run</td>\n",
              "      <td>GC0112</td>\n",
              "      <td>X928</td>\n",
              "      <td>Heavy Traffic</td>\n",
              "      <td>09003</td>\n",
              "      <td>05/25/2017 04:22:00 PM</td>\n",
              "      <td>05/25/2017 04:28:00 PM</td>\n",
              "      <td>Bronx</td>\n",
              "      <td>G.V.C. LTD. (B2192)</td>\n",
              "      <td>20-25MINS</td>\n",
              "      <td>0</td>\n",
              "      <td>Yes</td>\n",
              "      <td>Yes</td>\n",
              "      <td>Yes</td>\n",
              "      <td>05/25/2017 04:28:00 PM</td>\n",
              "      <td>90323827</td>\n",
              "      <td>05/25/2017 04:34:36 PM</td>\n",
              "      <td>Running Late</td>\n",
              "      <td>School-Age</td>\n",
              "    </tr>\n",
              "    <tr>\n",
              "      <th>281108</th>\n",
              "      <td>2016-2017</td>\n",
              "      <td>1353045</td>\n",
              "      <td>Special Ed PM Run</td>\n",
              "      <td>5525D</td>\n",
              "      <td>Q920</td>\n",
              "      <td>Won`t Start</td>\n",
              "      <td>24457</td>\n",
              "      <td>05/25/2017 04:27:00 PM</td>\n",
              "      <td>05/25/2017 04:30:00 PM</td>\n",
              "      <td>Queens</td>\n",
              "      <td>LITTLE RICHIE BUS SERVICE</td>\n",
              "      <td>NaN</td>\n",
              "      <td>0</td>\n",
              "      <td>Yes</td>\n",
              "      <td>Yes</td>\n",
              "      <td>No</td>\n",
              "      <td>05/25/2017 04:30:00 PM</td>\n",
              "      <td>NaN</td>\n",
              "      <td>05/25/2017 04:30:07 PM</td>\n",
              "      <td>Breakdown</td>\n",
              "      <td>School-Age</td>\n",
              "    </tr>\n",
              "    <tr>\n",
              "      <th>281109</th>\n",
              "      <td>2016-2017</td>\n",
              "      <td>1353046</td>\n",
              "      <td>Project Read PM Run</td>\n",
              "      <td>2530</td>\n",
              "      <td>K617</td>\n",
              "      <td>Other</td>\n",
              "      <td>21436</td>\n",
              "      <td>05/25/2017 04:36:00 PM</td>\n",
              "      <td>05/25/2017 04:37:00 PM</td>\n",
              "      <td>Brooklyn</td>\n",
              "      <td>RELIANT TRANS, INC. (B232</td>\n",
              "      <td>45min</td>\n",
              "      <td>7</td>\n",
              "      <td>Yes</td>\n",
              "      <td>Yes</td>\n",
              "      <td>Yes</td>\n",
              "      <td>05/25/2017 04:37:00 PM</td>\n",
              "      <td>NaN</td>\n",
              "      <td>05/25/2017 04:37:37 PM</td>\n",
              "      <td>Running Late</td>\n",
              "      <td>School-Age</td>\n",
              "    </tr>\n",
              "  </tbody>\n",
              "</table>\n",
              "</div>"
            ],
            "text/plain": [
              "       School_Year  ...  School_Age_or_PreK\n",
              "281105   2016-2017  ...               Pre-K\n",
              "281106   2016-2017  ...               Pre-K\n",
              "281107   2016-2017  ...          School-Age\n",
              "281108   2016-2017  ...          School-Age\n",
              "281109   2016-2017  ...          School-Age\n",
              "\n",
              "[5 rows x 21 columns]"
            ]
          },
          "metadata": {},
          "execution_count": 4
        }
      ]
    },
    {
      "cell_type": "code",
      "metadata": {
        "id": "a8yvg3qQl_HF",
        "colab": {
          "base_uri": "https://localhost:8080/",
          "height": 720
        },
        "outputId": "6a1c55ad-c82d-4e62-e2b2-a301e0f3073d"
      },
      "source": [
        "# Sample 10 rows of data\n",
        "# ---\n",
        "#\n",
        "busbreakdown.sample(10)"
      ],
      "execution_count": 5,
      "outputs": [
        {
          "output_type": "execute_result",
          "data": {
            "text/html": [
              "<div>\n",
              "<style scoped>\n",
              "    .dataframe tbody tr th:only-of-type {\n",
              "        vertical-align: middle;\n",
              "    }\n",
              "\n",
              "    .dataframe tbody tr th {\n",
              "        vertical-align: top;\n",
              "    }\n",
              "\n",
              "    .dataframe thead th {\n",
              "        text-align: right;\n",
              "    }\n",
              "</style>\n",
              "<table border=\"1\" class=\"dataframe\">\n",
              "  <thead>\n",
              "    <tr style=\"text-align: right;\">\n",
              "      <th></th>\n",
              "      <th>School_Year</th>\n",
              "      <th>Busbreakdown_ID</th>\n",
              "      <th>Run_Type</th>\n",
              "      <th>Bus_No</th>\n",
              "      <th>Route_Number</th>\n",
              "      <th>Reason</th>\n",
              "      <th>Schools_Serviced</th>\n",
              "      <th>Occurred_On</th>\n",
              "      <th>Created_On</th>\n",
              "      <th>Boro</th>\n",
              "      <th>Bus_Company_Name</th>\n",
              "      <th>How_Long_Delayed</th>\n",
              "      <th>Number_Of_Students_On_The_Bus</th>\n",
              "      <th>Has_Contractor_Notified_Schools</th>\n",
              "      <th>Has_Contractor_Notified_Parents</th>\n",
              "      <th>Have_You_Alerted_OPT</th>\n",
              "      <th>Informed_On</th>\n",
              "      <th>Incident_Number</th>\n",
              "      <th>Last_Updated_On</th>\n",
              "      <th>Breakdown_or_Running_Late</th>\n",
              "      <th>School_Age_or_PreK</th>\n",
              "    </tr>\n",
              "  </thead>\n",
              "  <tbody>\n",
              "    <tr>\n",
              "      <th>163328</th>\n",
              "      <td>2018-2019</td>\n",
              "      <td>1483856</td>\n",
              "      <td>Special Ed AM Run</td>\n",
              "      <td>1371</td>\n",
              "      <td>N053</td>\n",
              "      <td>Heavy Traffic</td>\n",
              "      <td>02986</td>\n",
              "      <td>11/13/2018 07:42:00 AM</td>\n",
              "      <td>11/13/2018 07:43:00 AM</td>\n",
              "      <td>Manhattan</td>\n",
              "      <td>LEESEL TRANSPORTATION CORP (B2192)</td>\n",
              "      <td>46-60 Min</td>\n",
              "      <td>0</td>\n",
              "      <td>Yes</td>\n",
              "      <td>Yes</td>\n",
              "      <td>No</td>\n",
              "      <td>11/13/2018 07:43:00 AM</td>\n",
              "      <td>NaN</td>\n",
              "      <td>01/01/1900 12:00:00 AM</td>\n",
              "      <td>Running Late</td>\n",
              "      <td>School-Age</td>\n",
              "    </tr>\n",
              "    <tr>\n",
              "      <th>215348</th>\n",
              "      <td>2017-2018</td>\n",
              "      <td>1397764</td>\n",
              "      <td>Special Ed AM Run</td>\n",
              "      <td>191</td>\n",
              "      <td>L061</td>\n",
              "      <td>Heavy Traffic</td>\n",
              "      <td>20205,20259,21226,22004</td>\n",
              "      <td>12/21/2017 07:55:00 AM</td>\n",
              "      <td>12/21/2017 07:56:00 AM</td>\n",
              "      <td>Brooklyn</td>\n",
              "      <td>B &amp; F SKILLED INC.(B2192)</td>\n",
              "      <td>16-30 Min</td>\n",
              "      <td>2</td>\n",
              "      <td>Yes</td>\n",
              "      <td>Yes</td>\n",
              "      <td>Yes</td>\n",
              "      <td>12/21/2017 07:56:00 AM</td>\n",
              "      <td>90488150</td>\n",
              "      <td>12/21/2017 03:33:25 PM</td>\n",
              "      <td>Running Late</td>\n",
              "      <td>School-Age</td>\n",
              "    </tr>\n",
              "    <tr>\n",
              "      <th>168537</th>\n",
              "      <td>2017-2018</td>\n",
              "      <td>1385051</td>\n",
              "      <td>Special Ed AM Run</td>\n",
              "      <td>415</td>\n",
              "      <td>K049</td>\n",
              "      <td>Other</td>\n",
              "      <td>13020,13113,13256,13674</td>\n",
              "      <td>11/10/2017 07:45:00 AM</td>\n",
              "      <td>11/10/2017 07:58:00 AM</td>\n",
              "      <td>Brooklyn</td>\n",
              "      <td>NEW DAWN TRANSIT, LLC (B2321)</td>\n",
              "      <td>31-45 Min</td>\n",
              "      <td>10</td>\n",
              "      <td>Yes</td>\n",
              "      <td>No</td>\n",
              "      <td>No</td>\n",
              "      <td>11/10/2017 07:58:00 AM</td>\n",
              "      <td>NaN</td>\n",
              "      <td>01/01/1900 12:00:00 AM</td>\n",
              "      <td>Running Late</td>\n",
              "      <td>School-Age</td>\n",
              "    </tr>\n",
              "    <tr>\n",
              "      <th>261761</th>\n",
              "      <td>2015-2016</td>\n",
              "      <td>1251875</td>\n",
              "      <td>General Ed PM Run</td>\n",
              "      <td>2450</td>\n",
              "      <td>K9552</td>\n",
              "      <td>Won`t Start</td>\n",
              "      <td>15172</td>\n",
              "      <td>02/24/2016 03:45:00 PM</td>\n",
              "      <td>02/24/2016 03:52:00 PM</td>\n",
              "      <td>Brooklyn</td>\n",
              "      <td>ALL AMERICAN SCHOOL BUS C</td>\n",
              "      <td>NaN</td>\n",
              "      <td>30</td>\n",
              "      <td>Yes</td>\n",
              "      <td>No</td>\n",
              "      <td>No</td>\n",
              "      <td>02/24/2016 03:52:00 PM</td>\n",
              "      <td>NaN</td>\n",
              "      <td>02/24/2016 03:54:10 PM</td>\n",
              "      <td>Breakdown</td>\n",
              "      <td>School-Age</td>\n",
              "    </tr>\n",
              "    <tr>\n",
              "      <th>110041</th>\n",
              "      <td>2017-2018</td>\n",
              "      <td>1437469</td>\n",
              "      <td>Special Ed PM Run</td>\n",
              "      <td>1470</td>\n",
              "      <td>M771</td>\n",
              "      <td>Heavy Traffic</td>\n",
              "      <td>03480,03687</td>\n",
              "      <td>05/09/2018 01:53:00 PM</td>\n",
              "      <td>05/09/2018 01:54:00 PM</td>\n",
              "      <td>Manhattan</td>\n",
              "      <td>LEESEL TRANSPORTATION CORP (B2192)</td>\n",
              "      <td>31-45 Min</td>\n",
              "      <td>0</td>\n",
              "      <td>Yes</td>\n",
              "      <td>Yes</td>\n",
              "      <td>No</td>\n",
              "      <td>05/09/2018 01:54:00 PM</td>\n",
              "      <td>NaN</td>\n",
              "      <td>01/01/1900 12:00:00 AM</td>\n",
              "      <td>Running Late</td>\n",
              "      <td>School-Age</td>\n",
              "    </tr>\n",
              "    <tr>\n",
              "      <th>83267</th>\n",
              "      <td>2016-2017</td>\n",
              "      <td>1332437</td>\n",
              "      <td>Pre-K/EI</td>\n",
              "      <td>1510</td>\n",
              "      <td>MC-6</td>\n",
              "      <td>Heavy Traffic</td>\n",
              "      <td>E046</td>\n",
              "      <td>03/20/2017 05:10:00 PM</td>\n",
              "      <td>03/20/2017 05:23:00 PM</td>\n",
              "      <td>Queens</td>\n",
              "      <td>ALINA SERVICES CORP.</td>\n",
              "      <td>25-30 MIN</td>\n",
              "      <td>0</td>\n",
              "      <td>Yes</td>\n",
              "      <td>Yes</td>\n",
              "      <td>Yes</td>\n",
              "      <td>03/20/2017 05:23:00 PM</td>\n",
              "      <td>NaN</td>\n",
              "      <td>03/20/2017 05:39:24 PM</td>\n",
              "      <td>Running Late</td>\n",
              "      <td>Pre-K</td>\n",
              "    </tr>\n",
              "    <tr>\n",
              "      <th>278595</th>\n",
              "      <td>2016-2017</td>\n",
              "      <td>1339995</td>\n",
              "      <td>Special Ed AM Run</td>\n",
              "      <td>5827</td>\n",
              "      <td>X148</td>\n",
              "      <td>Heavy Traffic</td>\n",
              "      <td>08410</td>\n",
              "      <td>04/19/2017 07:48:00 AM</td>\n",
              "      <td>04/19/2017 07:49:00 AM</td>\n",
              "      <td>Bronx</td>\n",
              "      <td>RELIANT TRANS, INC. (B232</td>\n",
              "      <td>25 MIN</td>\n",
              "      <td>9</td>\n",
              "      <td>Yes</td>\n",
              "      <td>Yes</td>\n",
              "      <td>Yes</td>\n",
              "      <td>04/19/2017 07:49:00 AM</td>\n",
              "      <td>NaN</td>\n",
              "      <td>04/19/2017 07:49:56 AM</td>\n",
              "      <td>Running Late</td>\n",
              "      <td>School-Age</td>\n",
              "    </tr>\n",
              "    <tr>\n",
              "      <th>266784</th>\n",
              "      <td>2017-2018</td>\n",
              "      <td>1440119</td>\n",
              "      <td>Special Ed PM Run</td>\n",
              "      <td>436</td>\n",
              "      <td>Q424</td>\n",
              "      <td>Other</td>\n",
              "      <td>28402,28600</td>\n",
              "      <td>05/16/2018 02:55:00 PM</td>\n",
              "      <td>05/16/2018 02:56:00 PM</td>\n",
              "      <td>Queens</td>\n",
              "      <td>LORINDA ENTERPRISES, LTD.</td>\n",
              "      <td>31-45 Min</td>\n",
              "      <td>0</td>\n",
              "      <td>Yes</td>\n",
              "      <td>Yes</td>\n",
              "      <td>No</td>\n",
              "      <td>05/16/2018 02:56:00 PM</td>\n",
              "      <td>NaN</td>\n",
              "      <td>01/01/1900 12:00:00 AM</td>\n",
              "      <td>Running Late</td>\n",
              "      <td>School-Age</td>\n",
              "    </tr>\n",
              "    <tr>\n",
              "      <th>141220</th>\n",
              "      <td>2017-2018</td>\n",
              "      <td>1441521</td>\n",
              "      <td>Special Ed AM Run</td>\n",
              "      <td>NI111</td>\n",
              "      <td>L050</td>\n",
              "      <td>Other</td>\n",
              "      <td>15088,15460,15758,32786</td>\n",
              "      <td>05/21/2018 06:57:00 AM</td>\n",
              "      <td>05/21/2018 06:57:00 AM</td>\n",
              "      <td>NaN</td>\n",
              "      <td>NEW DAWN TRANSIT, LLC (B2321)</td>\n",
              "      <td>61-90 Min</td>\n",
              "      <td>0</td>\n",
              "      <td>No</td>\n",
              "      <td>No</td>\n",
              "      <td>No</td>\n",
              "      <td>05/21/2018 06:57:00 AM</td>\n",
              "      <td>NaN</td>\n",
              "      <td>01/01/1900 12:00:00 AM</td>\n",
              "      <td>Running Late</td>\n",
              "      <td>School-Age</td>\n",
              "    </tr>\n",
              "    <tr>\n",
              "      <th>240162</th>\n",
              "      <td>2016-2017</td>\n",
              "      <td>1347165</td>\n",
              "      <td>Special Ed AM Run</td>\n",
              "      <td>HA 9948</td>\n",
              "      <td>M007</td>\n",
              "      <td>Mechanical Problem</td>\n",
              "      <td>01450</td>\n",
              "      <td>05/10/2017 07:20:00 AM</td>\n",
              "      <td>05/10/2017 07:49:00 AM</td>\n",
              "      <td>Manhattan</td>\n",
              "      <td>HAPPY CHILD TRANS LLC (B2</td>\n",
              "      <td>60 Mins.</td>\n",
              "      <td>0</td>\n",
              "      <td>Yes</td>\n",
              "      <td>Yes</td>\n",
              "      <td>No</td>\n",
              "      <td>05/10/2017 07:49:00 AM</td>\n",
              "      <td>NaN</td>\n",
              "      <td>05/10/2017 07:49:33 AM</td>\n",
              "      <td>Running Late</td>\n",
              "      <td>School-Age</td>\n",
              "    </tr>\n",
              "  </tbody>\n",
              "</table>\n",
              "</div>"
            ],
            "text/plain": [
              "       School_Year  ...  School_Age_or_PreK\n",
              "163328   2018-2019  ...          School-Age\n",
              "215348   2017-2018  ...          School-Age\n",
              "168537   2017-2018  ...          School-Age\n",
              "261761   2015-2016  ...          School-Age\n",
              "110041   2017-2018  ...          School-Age\n",
              "83267    2016-2017  ...               Pre-K\n",
              "278595   2016-2017  ...          School-Age\n",
              "266784   2017-2018  ...          School-Age\n",
              "141220   2017-2018  ...          School-Age\n",
              "240162   2016-2017  ...          School-Age\n",
              "\n",
              "[10 rows x 21 columns]"
            ]
          },
          "metadata": {},
          "execution_count": 5
        }
      ]
    },
    {
      "cell_type": "code",
      "metadata": {
        "id": "x3sfP6y2hgIS",
        "colab": {
          "base_uri": "https://localhost:8080/"
        },
        "outputId": "cf1e2165-6c6e-4529-af55-9788b20e7203"
      },
      "source": [
        "# Checking number of rows and columns\n",
        "# ---\n",
        "#  \n",
        "busbreakdown.shape"
      ],
      "execution_count": 6,
      "outputs": [
        {
          "output_type": "execute_result",
          "data": {
            "text/plain": [
              "(281110, 21)"
            ]
          },
          "metadata": {},
          "execution_count": 6
        }
      ]
    },
    {
      "cell_type": "code",
      "metadata": {
        "id": "AovarG6Bhk4y",
        "colab": {
          "base_uri": "https://localhost:8080/"
        },
        "outputId": "70a056f4-bea9-49af-e196-7e91c8790f13"
      },
      "source": [
        "# Checking datatypes\n",
        "# ---\n",
        "# \n",
        "busbreakdown.dtypes"
      ],
      "execution_count": 7,
      "outputs": [
        {
          "output_type": "execute_result",
          "data": {
            "text/plain": [
              "School_Year                        object\n",
              "Busbreakdown_ID                     int64\n",
              "Run_Type                           object\n",
              "Bus_No                             object\n",
              "Route_Number                       object\n",
              "Reason                             object\n",
              "Schools_Serviced                   object\n",
              "Occurred_On                        object\n",
              "Created_On                         object\n",
              "Boro                               object\n",
              "Bus_Company_Name                   object\n",
              "How_Long_Delayed                   object\n",
              "Number_Of_Students_On_The_Bus       int64\n",
              "Has_Contractor_Notified_Schools    object\n",
              "Has_Contractor_Notified_Parents    object\n",
              "Have_You_Alerted_OPT               object\n",
              "Informed_On                        object\n",
              "Incident_Number                    object\n",
              "Last_Updated_On                    object\n",
              "Breakdown_or_Running_Late          object\n",
              "School_Age_or_PreK                 object\n",
              "dtype: object"
            ]
          },
          "metadata": {},
          "execution_count": 7
        }
      ]
    },
    {
      "cell_type": "markdown",
      "metadata": {
        "id": "sKNcQTasmCgA"
      },
      "source": [
        "Record your observations below:\n",
        "\n",
        "*   Observation 1: There are 281,110 records with some columns containing missing data\n",
        "*   Observation 2: Various columns contain different data i.e route numbers with some values being whole number only and others starting off with a letter followed by 3 numbers\n",
        "\n"
      ]
    },
    {
      "cell_type": "markdown",
      "metadata": {
        "id": "ckfufNrcUHeH"
      },
      "source": [
        "## 3. External Data Source Validation"
      ]
    },
    {
      "cell_type": "markdown",
      "metadata": {
        "id": "6L4sl_0WXlbg"
      },
      "source": [
        "You can make sure your data matches other credible information. This ensures that the measurements are roughly in line with what they should be and it serves as a check on what other things might be wrong in your dataset.\n",
        "\n",
        "External validation can often be as simple as checking your data against some other data i.e. country population your dataset with country population on world bank data.\n",
        "\n",
        "Replace the text found on this text cell with your external data source validation information."
      ]
    },
    {
      "cell_type": "code",
      "metadata": {
        "id": "kP92MKsC3so0",
        "colab": {
          "base_uri": "https://localhost:8080/"
        },
        "outputId": "e3d78841-f6f4-4f13-daad-3d6e02a2bcbd"
      },
      "source": [
        "boros = busbreakdown['Boro'].unique()\n",
        "boros\n",
        "# NYC has 5 boroughs known as Bronx, Brooklyn, Manhattan, Queens and Staten Island\n",
        "# There are 5 values under borough column that are not boroughs within the city\n",
        "# and might be wrong"
      ],
      "execution_count": 8,
      "outputs": [
        {
          "output_type": "execute_result",
          "data": {
            "text/plain": [
              "array(['New Jersey', 'Manhattan', 'Bronx', 'Westchester', 'Brooklyn',\n",
              "       'Rockland County', 'Nassau County', nan, 'Queens', 'Staten Island',\n",
              "       'Connecticut', 'All Boroughs'], dtype=object)"
            ]
          },
          "metadata": {},
          "execution_count": 8
        }
      ]
    },
    {
      "cell_type": "code",
      "metadata": {
        "id": "kNBWCcw87brp",
        "colab": {
          "base_uri": "https://localhost:8080/"
        },
        "outputId": "5c1a224f-d9e4-4b04-a435-50540bf64043"
      },
      "source": [
        "busroutes = busbreakdown['Route_Number'].unique()\n",
        "busroutes\n",
        "# bus routes seem to be named beginning with the 1st letter of the borough followed \n",
        "# by a number. There are various route number values with only numbers or wit\n",
        "# letters at the end vs the start, indictating some values may be wrong."
      ],
      "execution_count": 9,
      "outputs": [
        {
          "output_type": "execute_result",
          "data": {
            "text/plain": [
              "array(['J711', 'M351', '3', ..., '012', '29AM', '1409B'], dtype=object)"
            ]
          },
          "metadata": {},
          "execution_count": 9
        }
      ]
    },
    {
      "cell_type": "markdown",
      "metadata": {
        "id": "FlBMxEDBUc9B"
      },
      "source": [
        "## 4. Data Preparation"
      ]
    },
    {
      "cell_type": "markdown",
      "metadata": {
        "id": "YNtWOlYAkcO_"
      },
      "source": [
        "### Performing Data Cleaning"
      ]
    },
    {
      "cell_type": "code",
      "metadata": {
        "id": "YYxrLT0GiQSc",
        "colab": {
          "base_uri": "https://localhost:8080/"
        },
        "outputId": "217c8282-43e3-4c60-8f83-10a8aa894d24"
      },
      "source": [
        "# Checking datatypes and missing entries of all the variables\n",
        "# ---\n",
        "# \n",
        "busbreakdown.isnull().sum()"
      ],
      "execution_count": 10,
      "outputs": [
        {
          "output_type": "execute_result",
          "data": {
            "text/plain": [
              "School_Year                             0\n",
              "Busbreakdown_ID                         0\n",
              "Run_Type                                3\n",
              "Bus_No                                  9\n",
              "Route_Number                            7\n",
              "Reason                                  2\n",
              "Schools_Serviced                        7\n",
              "Occurred_On                             0\n",
              "Created_On                              0\n",
              "Boro                                13461\n",
              "Bus_Company_Name                        0\n",
              "How_Long_Delayed                    35608\n",
              "Number_Of_Students_On_The_Bus           0\n",
              "Has_Contractor_Notified_Schools         0\n",
              "Has_Contractor_Notified_Parents         0\n",
              "Have_You_Alerted_OPT                    0\n",
              "Informed_On                             0\n",
              "Incident_Number                    271627\n",
              "Last_Updated_On                         0\n",
              "Breakdown_or_Running_Late               0\n",
              "School_Age_or_PreK                      0\n",
              "dtype: int64"
            ]
          },
          "metadata": {},
          "execution_count": 10
        }
      ]
    },
    {
      "cell_type": "markdown",
      "metadata": {
        "id": "NSgG917YmgbK"
      },
      "source": [
        "We observe the following from our dataset:\n",
        "\n",
        "*   Observation 1: 271,627 i.e majority of the recorded incidences do not contain incident numbers, this may be important for our analysis later as it could be a key differentiating column \n",
        "*   Observation 2: how long delayed and boroughs are also missing entries, that could affect analysis later on\n",
        "\n"
      ]
    },
    {
      "cell_type": "code",
      "metadata": {
        "id": "ydiwcHbkHSMt",
        "colab": {
          "base_uri": "https://localhost:8080/",
          "height": 134
        },
        "outputId": "1d613b8b-3b39-49ad-cfbc-347015654d28"
      },
      "source": [
        "# Standardizing your dataset i.e. variable renaming\n",
        "# ---\n",
        "# \n",
        "busbreakdown.columns = busbreakdown.columns.str.strip().str.lower()\n",
        "busbreakdown.head(1)"
      ],
      "execution_count": 11,
      "outputs": [
        {
          "output_type": "execute_result",
          "data": {
            "text/html": [
              "<div>\n",
              "<style scoped>\n",
              "    .dataframe tbody tr th:only-of-type {\n",
              "        vertical-align: middle;\n",
              "    }\n",
              "\n",
              "    .dataframe tbody tr th {\n",
              "        vertical-align: top;\n",
              "    }\n",
              "\n",
              "    .dataframe thead th {\n",
              "        text-align: right;\n",
              "    }\n",
              "</style>\n",
              "<table border=\"1\" class=\"dataframe\">\n",
              "  <thead>\n",
              "    <tr style=\"text-align: right;\">\n",
              "      <th></th>\n",
              "      <th>school_year</th>\n",
              "      <th>busbreakdown_id</th>\n",
              "      <th>run_type</th>\n",
              "      <th>bus_no</th>\n",
              "      <th>route_number</th>\n",
              "      <th>reason</th>\n",
              "      <th>schools_serviced</th>\n",
              "      <th>occurred_on</th>\n",
              "      <th>created_on</th>\n",
              "      <th>boro</th>\n",
              "      <th>bus_company_name</th>\n",
              "      <th>how_long_delayed</th>\n",
              "      <th>number_of_students_on_the_bus</th>\n",
              "      <th>has_contractor_notified_schools</th>\n",
              "      <th>has_contractor_notified_parents</th>\n",
              "      <th>have_you_alerted_opt</th>\n",
              "      <th>informed_on</th>\n",
              "      <th>incident_number</th>\n",
              "      <th>last_updated_on</th>\n",
              "      <th>breakdown_or_running_late</th>\n",
              "      <th>school_age_or_prek</th>\n",
              "    </tr>\n",
              "  </thead>\n",
              "  <tbody>\n",
              "    <tr>\n",
              "      <th>0</th>\n",
              "      <td>2015-2016</td>\n",
              "      <td>1227538</td>\n",
              "      <td>Special Ed AM Run</td>\n",
              "      <td>2621</td>\n",
              "      <td>J711</td>\n",
              "      <td>Heavy Traffic</td>\n",
              "      <td>75003</td>\n",
              "      <td>11/05/2015 08:10:00 AM</td>\n",
              "      <td>11/05/2015 08:12:00 AM</td>\n",
              "      <td>New Jersey</td>\n",
              "      <td>RELIANT TRANS, INC. (B232</td>\n",
              "      <td>NaN</td>\n",
              "      <td>11</td>\n",
              "      <td>Yes</td>\n",
              "      <td>No</td>\n",
              "      <td>Yes</td>\n",
              "      <td>11/05/2015 08:12:00 AM</td>\n",
              "      <td>NaN</td>\n",
              "      <td>11/05/2015 08:12:14 AM</td>\n",
              "      <td>Running Late</td>\n",
              "      <td>School-Age</td>\n",
              "    </tr>\n",
              "  </tbody>\n",
              "</table>\n",
              "</div>"
            ],
            "text/plain": [
              "  school_year  busbreakdown_id  ... breakdown_or_running_late school_age_or_prek\n",
              "0   2015-2016          1227538  ...              Running Late         School-Age\n",
              "\n",
              "[1 rows x 21 columns]"
            ]
          },
          "metadata": {},
          "execution_count": 11
        }
      ]
    },
    {
      "cell_type": "markdown",
      "metadata": {
        "id": "ijz_pJT4ml-i"
      },
      "source": [
        "We observe the following from our dataset:\n",
        "\n",
        "*   Observation 1: all columns are now lower case \n",
        "*   Observation 2\n",
        "\n"
      ]
    },
    {
      "cell_type": "code",
      "metadata": {
        "id": "VcfnxBJciRet",
        "colab": {
          "base_uri": "https://localhost:8080/"
        },
        "outputId": "b2b84e0a-9252-4fbb-ac1c-37339e2eb476"
      },
      "source": [
        "# Checking how many duplicate rows are there in the data\n",
        "# ---\n",
        "# \n",
        "sum(busbreakdown.duplicated())  "
      ],
      "execution_count": 12,
      "outputs": [
        {
          "output_type": "execute_result",
          "data": {
            "text/plain": [
              "0"
            ]
          },
          "metadata": {},
          "execution_count": 12
        }
      ]
    },
    {
      "cell_type": "markdown",
      "metadata": {
        "id": "6iP8KPKImnvC"
      },
      "source": [
        "We observe the following from our dataset:\n",
        "\n",
        "*   Observation 1: There are no duplicate rows in the data\n",
        "\n"
      ]
    },
    {
      "cell_type": "code",
      "metadata": {
        "id": "fwXq9B1LjlaN",
        "colab": {
          "base_uri": "https://localhost:8080/"
        },
        "outputId": "37936399-9fb4-44ea-fa07-95ca7299455f"
      },
      "source": [
        "# Checking if any of the columns are all null\n",
        "# ---\n",
        "# \n",
        "#busbreakdown.isnull().any()\n",
        "busbreakdown.isnull().sum()"
      ],
      "execution_count": 13,
      "outputs": [
        {
          "output_type": "execute_result",
          "data": {
            "text/plain": [
              "school_year                             0\n",
              "busbreakdown_id                         0\n",
              "run_type                                3\n",
              "bus_no                                  9\n",
              "route_number                            7\n",
              "reason                                  2\n",
              "schools_serviced                        7\n",
              "occurred_on                             0\n",
              "created_on                              0\n",
              "boro                                13461\n",
              "bus_company_name                        0\n",
              "how_long_delayed                    35608\n",
              "number_of_students_on_the_bus           0\n",
              "has_contractor_notified_schools         0\n",
              "has_contractor_notified_parents         0\n",
              "have_you_alerted_opt                    0\n",
              "informed_on                             0\n",
              "incident_number                    271627\n",
              "last_updated_on                         0\n",
              "breakdown_or_running_late               0\n",
              "school_age_or_prek                      0\n",
              "dtype: int64"
            ]
          },
          "metadata": {},
          "execution_count": 13
        }
      ]
    },
    {
      "cell_type": "markdown",
      "metadata": {
        "id": "qqZJ1NF3mxHh"
      },
      "source": [
        "We observe the following from our dataset:\n",
        "\n",
        "*   Observation 1: Since there are 281,110 records, we can assume there is no column with all nulls as all null counts are less than the no of records\n",
        "\n",
        "\n"
      ]
    },
    {
      "cell_type": "code",
      "metadata": {
        "id": "NsvDZHqxjrdx",
        "colab": {
          "base_uri": "https://localhost:8080/"
        },
        "outputId": "e59bcf6e-d148-452b-bd3b-52673a0ca804"
      },
      "source": [
        "# Checking if any of the rows are all null\n",
        "# ---\n",
        "#busbreakdown.isnull().any()\n",
        "busbreakdown.shape\n",
        "busbreakdown_rowna = busbreakdown.dropna(how='all')\n",
        "busbreakdown_rowna.shape"
      ],
      "execution_count": 14,
      "outputs": [
        {
          "output_type": "execute_result",
          "data": {
            "text/plain": [
              "(281110, 21)"
            ]
          },
          "metadata": {},
          "execution_count": 14
        }
      ]
    },
    {
      "cell_type": "markdown",
      "metadata": {
        "id": "k-i3KQTLnBvZ"
      },
      "source": [
        "We observe the following from our dataset:\n",
        "\n",
        "*   Observation 1: dropping all rows where all values are null has not chnaged the df shape showing there are no rows that are all null. majority have entries with only few missing entries in specific collumns\n",
        "\n",
        "*   Observation 2\n",
        "\n"
      ]
    },
    {
      "cell_type": "code",
      "metadata": {
        "id": "LRdCkarYiin-",
        "colab": {
          "base_uri": "https://localhost:8080/"
        },
        "outputId": "3d9a07ea-fd29-40bd-d722-7c766737adb5"
      },
      "source": [
        "# Checking if the \"Yes/No\" fields contain only these 2 values\n",
        "# for have_you_alerted_opt variable\n",
        "# ---\n",
        "# Hint: Use unique() function\n",
        "#\n",
        "busbreakdown['have_you_alerted_opt'].unique()"
      ],
      "execution_count": 15,
      "outputs": [
        {
          "output_type": "execute_result",
          "data": {
            "text/plain": [
              "array(['Yes', 'No'], dtype=object)"
            ]
          },
          "metadata": {},
          "execution_count": 15
        }
      ]
    },
    {
      "cell_type": "markdown",
      "metadata": {
        "id": "dB335aOVnCxj"
      },
      "source": [
        "We observe the following from our dataset:\n",
        "\n",
        "*   Observation 1: only contains yes or no values\n",
        "*   Observation 2: data type is object \n",
        "\n"
      ]
    },
    {
      "cell_type": "code",
      "metadata": {
        "id": "JbPVfstMikvf",
        "colab": {
          "base_uri": "https://localhost:8080/"
        },
        "outputId": "720ad1bb-05a4-4d30-9470-4b52b2ee1e28"
      },
      "source": [
        "# Checking if the \"Yes/No\" fields contain only these 2 values\n",
        "# for has_contractor_notified_parents variable\n",
        "# ---\n",
        "# \n",
        "busbreakdown['has_contractor_notified_parents'].unique()"
      ],
      "execution_count": 16,
      "outputs": [
        {
          "output_type": "execute_result",
          "data": {
            "text/plain": [
              "array(['No', 'Yes'], dtype=object)"
            ]
          },
          "metadata": {},
          "execution_count": 16
        }
      ]
    },
    {
      "cell_type": "markdown",
      "metadata": {
        "id": "W_YnOORcnGYw"
      },
      "source": [
        "We observe the following from our dataset:\n",
        "\n",
        "*   Observation 1: yes, the field contains only 'yes' and 'no' values\n",
        "*   Observation 2: dtype is still object\n",
        "\n"
      ]
    },
    {
      "cell_type": "code",
      "metadata": {
        "id": "_1b7RAbNi3xf",
        "colab": {
          "base_uri": "https://localhost:8080/"
        },
        "outputId": "9dbc9a80-cc6b-4c32-ce90-2a7679d17a4d"
      },
      "source": [
        "# Checking if the \"Yes/No\" fields contain only these 2 values\n",
        "# for has_contractor_notified_schools variable\n",
        "# ---\n",
        "#  \n",
        "busbreakdown['has_contractor_notified_schools'].unique()"
      ],
      "execution_count": 17,
      "outputs": [
        {
          "output_type": "execute_result",
          "data": {
            "text/plain": [
              "array(['Yes', 'No'], dtype=object)"
            ]
          },
          "metadata": {},
          "execution_count": 17
        }
      ]
    },
    {
      "cell_type": "markdown",
      "metadata": {
        "id": "vBRzzYPinIdJ"
      },
      "source": [
        "We observe the following from our dataset:\n",
        "\n",
        "*   Observation 1: Observation 1: yes, the field contains only 'yes' and 'no' values\n",
        "*   Observation 2: dtype is still object\n",
        "\n"
      ]
    },
    {
      "cell_type": "code",
      "metadata": {
        "id": "moY8-oqAjt7k",
        "colab": {
          "base_uri": "https://localhost:8080/"
        },
        "outputId": "f2f64a77-61ac-4687-9fd7-dd5b8d1b9436"
      },
      "source": [
        "# Checking unique values in break_down_or_running_late variable to ensure there is no duplication\n",
        "# ---\n",
        "#\n",
        "busbreakdown['breakdown_or_running_late'].unique()"
      ],
      "execution_count": 18,
      "outputs": [
        {
          "output_type": "execute_result",
          "data": {
            "text/plain": [
              "array(['Running Late', 'Breakdown'], dtype=object)"
            ]
          },
          "metadata": {},
          "execution_count": 18
        }
      ]
    },
    {
      "cell_type": "code",
      "metadata": {
        "id": "ICemYiD1kQTK",
        "colab": {
          "base_uri": "https://localhost:8080/"
        },
        "outputId": "124a50f7-f304-4d36-8a58-90130bb62c8a"
      },
      "source": [
        "# Checking unique values in school_age_or_prek variable\n",
        "# ---\n",
        "# \n",
        "busbreakdown['school_age_or_prek'].unique()"
      ],
      "execution_count": 19,
      "outputs": [
        {
          "output_type": "execute_result",
          "data": {
            "text/plain": [
              "array(['School-Age', 'Pre-K'], dtype=object)"
            ]
          },
          "metadata": {},
          "execution_count": 19
        }
      ]
    },
    {
      "cell_type": "code",
      "metadata": {
        "id": "geEgU4KhkUkF",
        "colab": {
          "base_uri": "https://localhost:8080/"
        },
        "outputId": "80d9a222-75c8-401d-fbf7-fcf8a78a46ba"
      },
      "source": [
        "# Checking unique values in school_year variable\n",
        "# ---\n",
        "#  \n",
        "busbreakdown['school_year'].unique()"
      ],
      "execution_count": 20,
      "outputs": [
        {
          "output_type": "execute_result",
          "data": {
            "text/plain": [
              "array(['2015-2016', '2017-2018', '2018-2019', '2016-2017', '2019-2020'],\n",
              "      dtype=object)"
            ]
          },
          "metadata": {},
          "execution_count": 20
        }
      ]
    },
    {
      "cell_type": "code",
      "metadata": {
        "id": "xo1liVO-kU6R",
        "colab": {
          "base_uri": "https://localhost:8080/"
        },
        "outputId": "c9febee9-8919-4b44-c686-d422c27d4a10"
      },
      "source": [
        "# Checking unique values in reason variable\n",
        "# ---\n",
        "#  \n",
        "busbreakdown['reason'].unique()"
      ],
      "execution_count": 21,
      "outputs": [
        {
          "output_type": "execute_result",
          "data": {
            "text/plain": [
              "array(['Heavy Traffic', 'Flat Tire', 'Other', 'Won`t Start',\n",
              "       'Mechanical Problem', 'Problem Run', 'Accident',\n",
              "       'Late return from Field Trip', 'Delayed by School',\n",
              "       'Weather Conditions', nan], dtype=object)"
            ]
          },
          "metadata": {},
          "execution_count": 21
        }
      ]
    },
    {
      "cell_type": "code",
      "metadata": {
        "id": "D_g8UMAtkWRO",
        "colab": {
          "base_uri": "https://localhost:8080/"
        },
        "outputId": "a5c8b5ff-8c96-4891-e909-52caaefa4407"
      },
      "source": [
        "# Checking unique values in run_type variable\n",
        "# ---\n",
        "#  \n",
        "busbreakdown['run_type'].unique()"
      ],
      "execution_count": 22,
      "outputs": [
        {
          "output_type": "execute_result",
          "data": {
            "text/plain": [
              "array(['Special Ed AM Run', 'Pre-K/EI', 'General Ed AM Run',\n",
              "       'General Ed Field Trip', 'Special Ed PM Run', 'General Ed PM Run',\n",
              "       'Project Read PM Run', 'Special Ed Field Trip',\n",
              "       'Project Read AM Run', 'Project Read Field Trip', nan],\n",
              "      dtype=object)"
            ]
          },
          "metadata": {},
          "execution_count": 22
        }
      ]
    },
    {
      "cell_type": "code",
      "metadata": {
        "id": "xwmxKhGmkYNK",
        "colab": {
          "base_uri": "https://localhost:8080/"
        },
        "outputId": "c8a9ba2e-43b8-44d0-82c0-87f8bc7c102f"
      },
      "source": [
        "# Checking unique values in boro variable\n",
        "# ---\n",
        "#   \n",
        "busbreakdown['boro'].unique()"
      ],
      "execution_count": 23,
      "outputs": [
        {
          "output_type": "execute_result",
          "data": {
            "text/plain": [
              "array(['New Jersey', 'Manhattan', 'Bronx', 'Westchester', 'Brooklyn',\n",
              "       'Rockland County', 'Nassau County', nan, 'Queens', 'Staten Island',\n",
              "       'Connecticut', 'All Boroughs'], dtype=object)"
            ]
          },
          "metadata": {},
          "execution_count": 23
        }
      ]
    },
    {
      "cell_type": "markdown",
      "metadata": {
        "id": "g8b_wULuodN8"
      },
      "source": [
        "### Overall Data Cleaning Observations\n",
        "**Missing Values**\n",
        "\n",
        "- There are a large number of missing values in the fields \"How_Long_Delayed\" which is important to our analysis. \n",
        "- There is an extremely large number of missing values in the \"Incident_number\" field but this is not incidental to our analysis and cannot be filled in without additional information.\n",
        "\n",
        "**Error in values**\n",
        "\n",
        "- \"How_Long_Delayed\" contains string values such as \"MINS\" or \"mins\" and a range of values, which needs to be changed to single integer value for our analysis.\n",
        "\n",
        "**Error in Datatypes**\n",
        "\n",
        "- \"How_Long_Delayed\" is a string datatype, should be converted to integer type.\n",
        "\n",
        "**Error in field names**\n",
        "- The column name \"Boro\" should be renamed to \"Borough\".\n"
      ]
    },
    {
      "cell_type": "markdown",
      "metadata": {
        "id": "EUXeWCRuprIp"
      },
      "source": [
        "### Next Steps: Data Cleaning Steps\n",
        "\n",
        "**Error in values**\n",
        "\n",
        "- Extract the first integer value (lowest delay time) in the column \"How_Long_Delayed\"\n",
        "\n",
        "\n",
        "**Missing Values**\n",
        "\n",
        "- Impute the missing values in the field \"How_Long_Delayed\" with the mean value.\n",
        "\n",
        "\n",
        "**Error in Datatypes**\n",
        "\n",
        "- Convert \"How_Long_Delayed\" to int datatype.\n",
        "\n",
        "\n",
        "\n",
        "**Error in field names**\n",
        "\n",
        "- Rename the column \"Boro\" to \"Borough\"."
      ]
    },
    {
      "cell_type": "code",
      "metadata": {
        "id": "27EznvNypkVb",
        "colab": {
          "base_uri": "https://localhost:8080/",
          "height": 395
        },
        "outputId": "ff186a8e-31bb-4153-a1ce-4a0e5e97f90e"
      },
      "source": [
        "# Lets first start by creating a copy of our dataframe \n",
        "# df_clean = df.copy(). We will use this copy as our cleaning copy.\n",
        "# ---\n",
        "#\n",
        "busbreakdown_clean = busbreakdown.copy()\n",
        "busbreakdown_clean.head()"
      ],
      "execution_count": 24,
      "outputs": [
        {
          "output_type": "execute_result",
          "data": {
            "text/html": [
              "<div>\n",
              "<style scoped>\n",
              "    .dataframe tbody tr th:only-of-type {\n",
              "        vertical-align: middle;\n",
              "    }\n",
              "\n",
              "    .dataframe tbody tr th {\n",
              "        vertical-align: top;\n",
              "    }\n",
              "\n",
              "    .dataframe thead th {\n",
              "        text-align: right;\n",
              "    }\n",
              "</style>\n",
              "<table border=\"1\" class=\"dataframe\">\n",
              "  <thead>\n",
              "    <tr style=\"text-align: right;\">\n",
              "      <th></th>\n",
              "      <th>school_year</th>\n",
              "      <th>busbreakdown_id</th>\n",
              "      <th>run_type</th>\n",
              "      <th>bus_no</th>\n",
              "      <th>route_number</th>\n",
              "      <th>reason</th>\n",
              "      <th>schools_serviced</th>\n",
              "      <th>occurred_on</th>\n",
              "      <th>created_on</th>\n",
              "      <th>boro</th>\n",
              "      <th>bus_company_name</th>\n",
              "      <th>how_long_delayed</th>\n",
              "      <th>number_of_students_on_the_bus</th>\n",
              "      <th>has_contractor_notified_schools</th>\n",
              "      <th>has_contractor_notified_parents</th>\n",
              "      <th>have_you_alerted_opt</th>\n",
              "      <th>informed_on</th>\n",
              "      <th>incident_number</th>\n",
              "      <th>last_updated_on</th>\n",
              "      <th>breakdown_or_running_late</th>\n",
              "      <th>school_age_or_prek</th>\n",
              "    </tr>\n",
              "  </thead>\n",
              "  <tbody>\n",
              "    <tr>\n",
              "      <th>0</th>\n",
              "      <td>2015-2016</td>\n",
              "      <td>1227538</td>\n",
              "      <td>Special Ed AM Run</td>\n",
              "      <td>2621</td>\n",
              "      <td>J711</td>\n",
              "      <td>Heavy Traffic</td>\n",
              "      <td>75003</td>\n",
              "      <td>11/05/2015 08:10:00 AM</td>\n",
              "      <td>11/05/2015 08:12:00 AM</td>\n",
              "      <td>New Jersey</td>\n",
              "      <td>RELIANT TRANS, INC. (B232</td>\n",
              "      <td>NaN</td>\n",
              "      <td>11</td>\n",
              "      <td>Yes</td>\n",
              "      <td>No</td>\n",
              "      <td>Yes</td>\n",
              "      <td>11/05/2015 08:12:00 AM</td>\n",
              "      <td>NaN</td>\n",
              "      <td>11/05/2015 08:12:14 AM</td>\n",
              "      <td>Running Late</td>\n",
              "      <td>School-Age</td>\n",
              "    </tr>\n",
              "    <tr>\n",
              "      <th>1</th>\n",
              "      <td>2015-2016</td>\n",
              "      <td>1227539</td>\n",
              "      <td>Special Ed AM Run</td>\n",
              "      <td>1260</td>\n",
              "      <td>M351</td>\n",
              "      <td>Heavy Traffic</td>\n",
              "      <td>06716</td>\n",
              "      <td>11/05/2015 08:10:00 AM</td>\n",
              "      <td>11/05/2015 08:12:00 AM</td>\n",
              "      <td>Manhattan</td>\n",
              "      <td>HOYT TRANSPORTATION CORP.</td>\n",
              "      <td>20MNS</td>\n",
              "      <td>2</td>\n",
              "      <td>Yes</td>\n",
              "      <td>Yes</td>\n",
              "      <td>No</td>\n",
              "      <td>11/05/2015 08:12:00 AM</td>\n",
              "      <td>NaN</td>\n",
              "      <td>11/05/2015 08:13:34 AM</td>\n",
              "      <td>Running Late</td>\n",
              "      <td>School-Age</td>\n",
              "    </tr>\n",
              "    <tr>\n",
              "      <th>2</th>\n",
              "      <td>2015-2016</td>\n",
              "      <td>1227540</td>\n",
              "      <td>Pre-K/EI</td>\n",
              "      <td>418</td>\n",
              "      <td>3</td>\n",
              "      <td>Heavy Traffic</td>\n",
              "      <td>C445</td>\n",
              "      <td>11/05/2015 08:09:00 AM</td>\n",
              "      <td>11/05/2015 08:13:00 AM</td>\n",
              "      <td>Bronx</td>\n",
              "      <td>G.V.C., LTD.</td>\n",
              "      <td>15MIN</td>\n",
              "      <td>8</td>\n",
              "      <td>Yes</td>\n",
              "      <td>Yes</td>\n",
              "      <td>Yes</td>\n",
              "      <td>11/05/2015 08:13:00 AM</td>\n",
              "      <td>NaN</td>\n",
              "      <td>11/05/2015 08:13:22 AM</td>\n",
              "      <td>Running Late</td>\n",
              "      <td>Pre-K</td>\n",
              "    </tr>\n",
              "    <tr>\n",
              "      <th>3</th>\n",
              "      <td>2015-2016</td>\n",
              "      <td>1227541</td>\n",
              "      <td>Special Ed AM Run</td>\n",
              "      <td>4522</td>\n",
              "      <td>M271</td>\n",
              "      <td>Heavy Traffic</td>\n",
              "      <td>02699</td>\n",
              "      <td>11/05/2015 08:12:00 AM</td>\n",
              "      <td>11/05/2015 08:14:00 AM</td>\n",
              "      <td>Manhattan</td>\n",
              "      <td>RELIANT TRANS, INC. (B232</td>\n",
              "      <td>15 MIN</td>\n",
              "      <td>6</td>\n",
              "      <td>No</td>\n",
              "      <td>No</td>\n",
              "      <td>No</td>\n",
              "      <td>11/05/2015 08:14:00 AM</td>\n",
              "      <td>NaN</td>\n",
              "      <td>11/05/2015 08:14:04 AM</td>\n",
              "      <td>Running Late</td>\n",
              "      <td>School-Age</td>\n",
              "    </tr>\n",
              "    <tr>\n",
              "      <th>4</th>\n",
              "      <td>2015-2016</td>\n",
              "      <td>1227542</td>\n",
              "      <td>Special Ed AM Run</td>\n",
              "      <td>3124</td>\n",
              "      <td>M373</td>\n",
              "      <td>Heavy Traffic</td>\n",
              "      <td>02116</td>\n",
              "      <td>11/05/2015 08:13:00 AM</td>\n",
              "      <td>11/05/2015 08:14:00 AM</td>\n",
              "      <td>Manhattan</td>\n",
              "      <td>RELIANT TRANS, INC. (B232</td>\n",
              "      <td>NaN</td>\n",
              "      <td>6</td>\n",
              "      <td>No</td>\n",
              "      <td>No</td>\n",
              "      <td>No</td>\n",
              "      <td>11/05/2015 08:14:00 AM</td>\n",
              "      <td>NaN</td>\n",
              "      <td>11/05/2015 08:14:08 AM</td>\n",
              "      <td>Running Late</td>\n",
              "      <td>School-Age</td>\n",
              "    </tr>\n",
              "  </tbody>\n",
              "</table>\n",
              "</div>"
            ],
            "text/plain": [
              "  school_year  busbreakdown_id  ... breakdown_or_running_late school_age_or_prek\n",
              "0   2015-2016          1227538  ...              Running Late         School-Age\n",
              "1   2015-2016          1227539  ...              Running Late         School-Age\n",
              "2   2015-2016          1227540  ...              Running Late              Pre-K\n",
              "3   2015-2016          1227541  ...              Running Late         School-Age\n",
              "4   2015-2016          1227542  ...              Running Late         School-Age\n",
              "\n",
              "[5 rows x 21 columns]"
            ]
          },
          "metadata": {},
          "execution_count": 24
        }
      ]
    },
    {
      "cell_type": "code",
      "metadata": {
        "id": "qlfP46wxqGIb",
        "colab": {
          "base_uri": "https://localhost:8080/"
        },
        "outputId": "54f585b8-4d6d-4010-aa0d-28e84dbd42de"
      },
      "source": [
        "# Then extracting the lowest delay time in the column how_long_delayed from the string\n",
        "# \n",
        "busbreakdown_clean['how_long_delayed'] = busbreakdown_clean['how_long_delayed'].str.extract('(\\d+)')\n",
        "busbreakdown_clean['how_long_delayed'].head()"
      ],
      "execution_count": 25,
      "outputs": [
        {
          "output_type": "execute_result",
          "data": {
            "text/plain": [
              "0    NaN\n",
              "1     20\n",
              "2     15\n",
              "3     15\n",
              "4    NaN\n",
              "Name: how_long_delayed, dtype: object"
            ]
          },
          "metadata": {},
          "execution_count": 25
        }
      ]
    },
    {
      "cell_type": "markdown",
      "metadata": {
        "id": "5TCaPQwzqZwx"
      },
      "source": [
        "We impute the null values in 'how_long_delayed' column with mean of the column. This will take a couple of steps..."
      ]
    },
    {
      "cell_type": "code",
      "metadata": {
        "id": "jk49oxooqOLB",
        "colab": {
          "base_uri": "https://localhost:8080/"
        },
        "outputId": "9a3141ec-3ae5-44f5-f2db-6d2a8496498a"
      },
      "source": [
        "# We first convert our how_long_delayed to float type to allow for imputation\n",
        "# ---\n",
        "# \n",
        "#busbreakdown_clean.dtypes\n",
        "#busbreakdown_clean['how_long_delayed'] = busbreakdown_clean['how_long_delayed'].astype(float)\n",
        "busbreakdown_clean['how_long_delayed'] = pd.to_numeric(busbreakdown_clean['how_long_delayed'],errors = 'coerce')\n",
        "busbreakdown_clean.dtypes"
      ],
      "execution_count": 26,
      "outputs": [
        {
          "output_type": "execute_result",
          "data": {
            "text/plain": [
              "school_year                         object\n",
              "busbreakdown_id                      int64\n",
              "run_type                            object\n",
              "bus_no                              object\n",
              "route_number                        object\n",
              "reason                              object\n",
              "schools_serviced                    object\n",
              "occurred_on                         object\n",
              "created_on                          object\n",
              "boro                                object\n",
              "bus_company_name                    object\n",
              "how_long_delayed                   float64\n",
              "number_of_students_on_the_bus        int64\n",
              "has_contractor_notified_schools     object\n",
              "has_contractor_notified_parents     object\n",
              "have_you_alerted_opt                object\n",
              "informed_on                         object\n",
              "incident_number                     object\n",
              "last_updated_on                     object\n",
              "breakdown_or_running_late           object\n",
              "school_age_or_prek                  object\n",
              "dtype: object"
            ]
          },
          "metadata": {},
          "execution_count": 26
        }
      ]
    },
    {
      "cell_type": "code",
      "metadata": {
        "id": "9gkyJ9frqlTP"
      },
      "source": [
        "# Then later perform our mean imputation \n",
        "# ---\n",
        "# \n",
        "#busbreakdown_clean['how_long_delayed'].mean()\n",
        "busbreakdown_clean['how_long_delayed'].fillna(busbreakdown_clean['how_long_delayed'].mean(),inplace= True)"
      ],
      "execution_count": 27,
      "outputs": []
    },
    {
      "cell_type": "code",
      "metadata": {
        "id": "2BjIJBjdq05B",
        "colab": {
          "base_uri": "https://localhost:8080/"
        },
        "outputId": "b0250ad6-7ea9-4375-f6ea-18f3f52a3ea4"
      },
      "source": [
        "# Then convert back our how_long_delayed column to integer datatype\n",
        "# ---\n",
        "# \n",
        "busbreakdown_clean['how_long_delayed'] = busbreakdown_clean['how_long_delayed'].astype(int)\n",
        "busbreakdown_clean.dtypes"
      ],
      "execution_count": 30,
      "outputs": [
        {
          "output_type": "execute_result",
          "data": {
            "text/plain": [
              "school_year                        object\n",
              "busbreakdown_id                     int64\n",
              "run_type                           object\n",
              "bus_no                             object\n",
              "route_number                       object\n",
              "reason                             object\n",
              "schools_serviced                   object\n",
              "occurred_on                        object\n",
              "created_on                         object\n",
              "boro                               object\n",
              "bus_company_name                   object\n",
              "how_long_delayed                    int64\n",
              "number_of_students_on_the_bus       int64\n",
              "has_contractor_notified_schools    object\n",
              "has_contractor_notified_parents    object\n",
              "have_you_alerted_opt               object\n",
              "informed_on                        object\n",
              "incident_number                    object\n",
              "last_updated_on                    object\n",
              "breakdown_or_running_late          object\n",
              "school_age_or_prek                 object\n",
              "dtype: object"
            ]
          },
          "metadata": {},
          "execution_count": 30
        }
      ]
    },
    {
      "cell_type": "code",
      "metadata": {
        "id": "PL3Mx2GjrDhD",
        "colab": {
          "base_uri": "https://localhost:8080/"
        },
        "outputId": "534c8405-b24f-4f8c-b78a-c10ad0111fef"
      },
      "source": [
        "# Then check for nulls in the column\n",
        "# ---\n",
        "# \n",
        "busbreakdown_clean['how_long_delayed'].isnull().sum()"
      ],
      "execution_count": 29,
      "outputs": [
        {
          "output_type": "execute_result",
          "data": {
            "text/plain": [
              "0"
            ]
          },
          "metadata": {},
          "execution_count": 29
        }
      ]
    },
    {
      "cell_type": "code",
      "metadata": {
        "id": "v8s5E8v6rJzX",
        "colab": {
          "base_uri": "https://localhost:8080/",
          "height": 134
        },
        "outputId": "4fb3ab8f-bd69-4d61-ed2d-e0267da7f347"
      },
      "source": [
        "# Rename Boro column to Borough\n",
        "# ---\n",
        "# \n",
        "busbreakdown_clean.rename(columns={\"boro\": \"borough\"}, inplace = True)\n",
        "busbreakdown_clean.head(1)"
      ],
      "execution_count": 38,
      "outputs": [
        {
          "output_type": "execute_result",
          "data": {
            "text/html": [
              "<div>\n",
              "<style scoped>\n",
              "    .dataframe tbody tr th:only-of-type {\n",
              "        vertical-align: middle;\n",
              "    }\n",
              "\n",
              "    .dataframe tbody tr th {\n",
              "        vertical-align: top;\n",
              "    }\n",
              "\n",
              "    .dataframe thead th {\n",
              "        text-align: right;\n",
              "    }\n",
              "</style>\n",
              "<table border=\"1\" class=\"dataframe\">\n",
              "  <thead>\n",
              "    <tr style=\"text-align: right;\">\n",
              "      <th></th>\n",
              "      <th>school_year</th>\n",
              "      <th>busbreakdown_id</th>\n",
              "      <th>run_type</th>\n",
              "      <th>bus_no</th>\n",
              "      <th>route_number</th>\n",
              "      <th>reason</th>\n",
              "      <th>schools_serviced</th>\n",
              "      <th>occurred_on</th>\n",
              "      <th>created_on</th>\n",
              "      <th>Borough</th>\n",
              "      <th>bus_company_name</th>\n",
              "      <th>how_long_delayed</th>\n",
              "      <th>number_of_students_on_the_bus</th>\n",
              "      <th>has_contractor_notified_schools</th>\n",
              "      <th>has_contractor_notified_parents</th>\n",
              "      <th>have_you_alerted_opt</th>\n",
              "      <th>informed_on</th>\n",
              "      <th>incident_number</th>\n",
              "      <th>last_updated_on</th>\n",
              "      <th>breakdown_or_running_late</th>\n",
              "      <th>school_age_or_prek</th>\n",
              "    </tr>\n",
              "  </thead>\n",
              "  <tbody>\n",
              "    <tr>\n",
              "      <th>0</th>\n",
              "      <td>2015-2016</td>\n",
              "      <td>1227538</td>\n",
              "      <td>Special Ed AM Run</td>\n",
              "      <td>2621</td>\n",
              "      <td>J711</td>\n",
              "      <td>Heavy Traffic</td>\n",
              "      <td>75003</td>\n",
              "      <td>11/05/2015 08:10:00 AM</td>\n",
              "      <td>11/05/2015 08:12:00 AM</td>\n",
              "      <td>New Jersey</td>\n",
              "      <td>RELIANT TRANS, INC. (B232</td>\n",
              "      <td>28</td>\n",
              "      <td>11</td>\n",
              "      <td>Yes</td>\n",
              "      <td>No</td>\n",
              "      <td>Yes</td>\n",
              "      <td>11/05/2015 08:12:00 AM</td>\n",
              "      <td>NaN</td>\n",
              "      <td>11/05/2015 08:12:14 AM</td>\n",
              "      <td>Running Late</td>\n",
              "      <td>School-Age</td>\n",
              "    </tr>\n",
              "  </tbody>\n",
              "</table>\n",
              "</div>"
            ],
            "text/plain": [
              "  school_year  busbreakdown_id  ... breakdown_or_running_late school_age_or_prek\n",
              "0   2015-2016          1227538  ...              Running Late         School-Age\n",
              "\n",
              "[1 rows x 21 columns]"
            ]
          },
          "metadata": {},
          "execution_count": 38
        }
      ]
    },
    {
      "cell_type": "code",
      "metadata": {
        "id": "AbYznrWJ2BC1",
        "colab": {
          "base_uri": "https://localhost:8080/",
          "height": 134
        },
        "outputId": "a24ee6b8-49b2-4a51-c5c4-784ab6031b73"
      },
      "source": [
        "# Lastly we convert all values in our colums to lower case\n",
        "# for ease of reading\n",
        "# ---\n",
        "# \n",
        "busbreakdown_clean.columns = busbreakdown_clean.columns.str.lower()\n",
        "busbreakdown_clean.head(1)"
      ],
      "execution_count": 39,
      "outputs": [
        {
          "output_type": "execute_result",
          "data": {
            "text/html": [
              "<div>\n",
              "<style scoped>\n",
              "    .dataframe tbody tr th:only-of-type {\n",
              "        vertical-align: middle;\n",
              "    }\n",
              "\n",
              "    .dataframe tbody tr th {\n",
              "        vertical-align: top;\n",
              "    }\n",
              "\n",
              "    .dataframe thead th {\n",
              "        text-align: right;\n",
              "    }\n",
              "</style>\n",
              "<table border=\"1\" class=\"dataframe\">\n",
              "  <thead>\n",
              "    <tr style=\"text-align: right;\">\n",
              "      <th></th>\n",
              "      <th>school_year</th>\n",
              "      <th>busbreakdown_id</th>\n",
              "      <th>run_type</th>\n",
              "      <th>bus_no</th>\n",
              "      <th>route_number</th>\n",
              "      <th>reason</th>\n",
              "      <th>schools_serviced</th>\n",
              "      <th>occurred_on</th>\n",
              "      <th>created_on</th>\n",
              "      <th>borough</th>\n",
              "      <th>bus_company_name</th>\n",
              "      <th>how_long_delayed</th>\n",
              "      <th>number_of_students_on_the_bus</th>\n",
              "      <th>has_contractor_notified_schools</th>\n",
              "      <th>has_contractor_notified_parents</th>\n",
              "      <th>have_you_alerted_opt</th>\n",
              "      <th>informed_on</th>\n",
              "      <th>incident_number</th>\n",
              "      <th>last_updated_on</th>\n",
              "      <th>breakdown_or_running_late</th>\n",
              "      <th>school_age_or_prek</th>\n",
              "    </tr>\n",
              "  </thead>\n",
              "  <tbody>\n",
              "    <tr>\n",
              "      <th>0</th>\n",
              "      <td>2015-2016</td>\n",
              "      <td>1227538</td>\n",
              "      <td>Special Ed AM Run</td>\n",
              "      <td>2621</td>\n",
              "      <td>J711</td>\n",
              "      <td>Heavy Traffic</td>\n",
              "      <td>75003</td>\n",
              "      <td>11/05/2015 08:10:00 AM</td>\n",
              "      <td>11/05/2015 08:12:00 AM</td>\n",
              "      <td>New Jersey</td>\n",
              "      <td>RELIANT TRANS, INC. (B232</td>\n",
              "      <td>28</td>\n",
              "      <td>11</td>\n",
              "      <td>Yes</td>\n",
              "      <td>No</td>\n",
              "      <td>Yes</td>\n",
              "      <td>11/05/2015 08:12:00 AM</td>\n",
              "      <td>NaN</td>\n",
              "      <td>11/05/2015 08:12:14 AM</td>\n",
              "      <td>Running Late</td>\n",
              "      <td>School-Age</td>\n",
              "    </tr>\n",
              "  </tbody>\n",
              "</table>\n",
              "</div>"
            ],
            "text/plain": [
              "  school_year  busbreakdown_id  ... breakdown_or_running_late school_age_or_prek\n",
              "0   2015-2016          1227538  ...              Running Late         School-Age\n",
              "\n",
              "[1 rows x 21 columns]"
            ]
          },
          "metadata": {},
          "execution_count": 39
        }
      ]
    },
    {
      "cell_type": "code",
      "metadata": {
        "id": "Fe3IzcDyrS_6",
        "colab": {
          "base_uri": "https://localhost:8080/",
          "height": 395
        },
        "outputId": "ecba629d-0433-4301-b3f1-8322cc814bd1"
      },
      "source": [
        "# Check the first 5 record the cleaned dataset\n",
        "# ---\n",
        "#\n",
        "busbreakdown_clean.head()"
      ],
      "execution_count": 40,
      "outputs": [
        {
          "output_type": "execute_result",
          "data": {
            "text/html": [
              "<div>\n",
              "<style scoped>\n",
              "    .dataframe tbody tr th:only-of-type {\n",
              "        vertical-align: middle;\n",
              "    }\n",
              "\n",
              "    .dataframe tbody tr th {\n",
              "        vertical-align: top;\n",
              "    }\n",
              "\n",
              "    .dataframe thead th {\n",
              "        text-align: right;\n",
              "    }\n",
              "</style>\n",
              "<table border=\"1\" class=\"dataframe\">\n",
              "  <thead>\n",
              "    <tr style=\"text-align: right;\">\n",
              "      <th></th>\n",
              "      <th>school_year</th>\n",
              "      <th>busbreakdown_id</th>\n",
              "      <th>run_type</th>\n",
              "      <th>bus_no</th>\n",
              "      <th>route_number</th>\n",
              "      <th>reason</th>\n",
              "      <th>schools_serviced</th>\n",
              "      <th>occurred_on</th>\n",
              "      <th>created_on</th>\n",
              "      <th>borough</th>\n",
              "      <th>bus_company_name</th>\n",
              "      <th>how_long_delayed</th>\n",
              "      <th>number_of_students_on_the_bus</th>\n",
              "      <th>has_contractor_notified_schools</th>\n",
              "      <th>has_contractor_notified_parents</th>\n",
              "      <th>have_you_alerted_opt</th>\n",
              "      <th>informed_on</th>\n",
              "      <th>incident_number</th>\n",
              "      <th>last_updated_on</th>\n",
              "      <th>breakdown_or_running_late</th>\n",
              "      <th>school_age_or_prek</th>\n",
              "    </tr>\n",
              "  </thead>\n",
              "  <tbody>\n",
              "    <tr>\n",
              "      <th>0</th>\n",
              "      <td>2015-2016</td>\n",
              "      <td>1227538</td>\n",
              "      <td>Special Ed AM Run</td>\n",
              "      <td>2621</td>\n",
              "      <td>J711</td>\n",
              "      <td>Heavy Traffic</td>\n",
              "      <td>75003</td>\n",
              "      <td>11/05/2015 08:10:00 AM</td>\n",
              "      <td>11/05/2015 08:12:00 AM</td>\n",
              "      <td>New Jersey</td>\n",
              "      <td>RELIANT TRANS, INC. (B232</td>\n",
              "      <td>28</td>\n",
              "      <td>11</td>\n",
              "      <td>Yes</td>\n",
              "      <td>No</td>\n",
              "      <td>Yes</td>\n",
              "      <td>11/05/2015 08:12:00 AM</td>\n",
              "      <td>NaN</td>\n",
              "      <td>11/05/2015 08:12:14 AM</td>\n",
              "      <td>Running Late</td>\n",
              "      <td>School-Age</td>\n",
              "    </tr>\n",
              "    <tr>\n",
              "      <th>1</th>\n",
              "      <td>2015-2016</td>\n",
              "      <td>1227539</td>\n",
              "      <td>Special Ed AM Run</td>\n",
              "      <td>1260</td>\n",
              "      <td>M351</td>\n",
              "      <td>Heavy Traffic</td>\n",
              "      <td>06716</td>\n",
              "      <td>11/05/2015 08:10:00 AM</td>\n",
              "      <td>11/05/2015 08:12:00 AM</td>\n",
              "      <td>Manhattan</td>\n",
              "      <td>HOYT TRANSPORTATION CORP.</td>\n",
              "      <td>20</td>\n",
              "      <td>2</td>\n",
              "      <td>Yes</td>\n",
              "      <td>Yes</td>\n",
              "      <td>No</td>\n",
              "      <td>11/05/2015 08:12:00 AM</td>\n",
              "      <td>NaN</td>\n",
              "      <td>11/05/2015 08:13:34 AM</td>\n",
              "      <td>Running Late</td>\n",
              "      <td>School-Age</td>\n",
              "    </tr>\n",
              "    <tr>\n",
              "      <th>2</th>\n",
              "      <td>2015-2016</td>\n",
              "      <td>1227540</td>\n",
              "      <td>Pre-K/EI</td>\n",
              "      <td>418</td>\n",
              "      <td>3</td>\n",
              "      <td>Heavy Traffic</td>\n",
              "      <td>C445</td>\n",
              "      <td>11/05/2015 08:09:00 AM</td>\n",
              "      <td>11/05/2015 08:13:00 AM</td>\n",
              "      <td>Bronx</td>\n",
              "      <td>G.V.C., LTD.</td>\n",
              "      <td>15</td>\n",
              "      <td>8</td>\n",
              "      <td>Yes</td>\n",
              "      <td>Yes</td>\n",
              "      <td>Yes</td>\n",
              "      <td>11/05/2015 08:13:00 AM</td>\n",
              "      <td>NaN</td>\n",
              "      <td>11/05/2015 08:13:22 AM</td>\n",
              "      <td>Running Late</td>\n",
              "      <td>Pre-K</td>\n",
              "    </tr>\n",
              "    <tr>\n",
              "      <th>3</th>\n",
              "      <td>2015-2016</td>\n",
              "      <td>1227541</td>\n",
              "      <td>Special Ed AM Run</td>\n",
              "      <td>4522</td>\n",
              "      <td>M271</td>\n",
              "      <td>Heavy Traffic</td>\n",
              "      <td>02699</td>\n",
              "      <td>11/05/2015 08:12:00 AM</td>\n",
              "      <td>11/05/2015 08:14:00 AM</td>\n",
              "      <td>Manhattan</td>\n",
              "      <td>RELIANT TRANS, INC. (B232</td>\n",
              "      <td>15</td>\n",
              "      <td>6</td>\n",
              "      <td>No</td>\n",
              "      <td>No</td>\n",
              "      <td>No</td>\n",
              "      <td>11/05/2015 08:14:00 AM</td>\n",
              "      <td>NaN</td>\n",
              "      <td>11/05/2015 08:14:04 AM</td>\n",
              "      <td>Running Late</td>\n",
              "      <td>School-Age</td>\n",
              "    </tr>\n",
              "    <tr>\n",
              "      <th>4</th>\n",
              "      <td>2015-2016</td>\n",
              "      <td>1227542</td>\n",
              "      <td>Special Ed AM Run</td>\n",
              "      <td>3124</td>\n",
              "      <td>M373</td>\n",
              "      <td>Heavy Traffic</td>\n",
              "      <td>02116</td>\n",
              "      <td>11/05/2015 08:13:00 AM</td>\n",
              "      <td>11/05/2015 08:14:00 AM</td>\n",
              "      <td>Manhattan</td>\n",
              "      <td>RELIANT TRANS, INC. (B232</td>\n",
              "      <td>28</td>\n",
              "      <td>6</td>\n",
              "      <td>No</td>\n",
              "      <td>No</td>\n",
              "      <td>No</td>\n",
              "      <td>11/05/2015 08:14:00 AM</td>\n",
              "      <td>NaN</td>\n",
              "      <td>11/05/2015 08:14:08 AM</td>\n",
              "      <td>Running Late</td>\n",
              "      <td>School-Age</td>\n",
              "    </tr>\n",
              "  </tbody>\n",
              "</table>\n",
              "</div>"
            ],
            "text/plain": [
              "  school_year  busbreakdown_id  ... breakdown_or_running_late school_age_or_prek\n",
              "0   2015-2016          1227538  ...              Running Late         School-Age\n",
              "1   2015-2016          1227539  ...              Running Late         School-Age\n",
              "2   2015-2016          1227540  ...              Running Late              Pre-K\n",
              "3   2015-2016          1227541  ...              Running Late         School-Age\n",
              "4   2015-2016          1227542  ...              Running Late         School-Age\n",
              "\n",
              "[5 rows x 21 columns]"
            ]
          },
          "metadata": {},
          "execution_count": 40
        }
      ]
    },
    {
      "cell_type": "markdown",
      "metadata": {
        "id": "vTbdjSrhVIiT"
      },
      "source": [
        "\n",
        "## 5. Solution Implementation"
      ]
    },
    {
      "cell_type": "markdown",
      "metadata": {
        "id": "PdHyc8WYHlAG"
      },
      "source": [
        "Here we investigate the questions that would help craft our recommendations."
      ]
    },
    {
      "cell_type": "markdown",
      "metadata": {
        "id": "Nh5mcts5IK8U"
      },
      "source": [
        "### 5.a) Questions"
      ]
    },
    {
      "cell_type": "code",
      "metadata": {
        "id": "7Q6JR-4yfVHf",
        "colab": {
          "base_uri": "https://localhost:8080/",
          "height": 607
        },
        "outputId": "7aae9872-23e4-42c3-bbbe-98e16d177462"
      },
      "source": [
        "# 1. Which bus companies that had the highest breakdowns?\n",
        "# ---\n",
        "#\n",
        "breakdowns = busbreakdown_clean.groupby(['bus_company_name']).count()\n",
        "\n",
        "# Sort to get bus company with highest breakdowns\n",
        "# ---\n",
        "# YOUR CODE GOES BELOW\n",
        "#\n",
        "breakdowns.sort_values(by='busbreakdown_id',ascending=0)"
      ],
      "execution_count": 46,
      "outputs": [
        {
          "output_type": "execute_result",
          "data": {
            "text/html": [
              "<div>\n",
              "<style scoped>\n",
              "    .dataframe tbody tr th:only-of-type {\n",
              "        vertical-align: middle;\n",
              "    }\n",
              "\n",
              "    .dataframe tbody tr th {\n",
              "        vertical-align: top;\n",
              "    }\n",
              "\n",
              "    .dataframe thead th {\n",
              "        text-align: right;\n",
              "    }\n",
              "</style>\n",
              "<table border=\"1\" class=\"dataframe\">\n",
              "  <thead>\n",
              "    <tr style=\"text-align: right;\">\n",
              "      <th></th>\n",
              "      <th>school_year</th>\n",
              "      <th>busbreakdown_id</th>\n",
              "      <th>run_type</th>\n",
              "      <th>bus_no</th>\n",
              "      <th>route_number</th>\n",
              "      <th>reason</th>\n",
              "      <th>schools_serviced</th>\n",
              "      <th>occurred_on</th>\n",
              "      <th>created_on</th>\n",
              "      <th>borough</th>\n",
              "      <th>how_long_delayed</th>\n",
              "      <th>number_of_students_on_the_bus</th>\n",
              "      <th>has_contractor_notified_schools</th>\n",
              "      <th>has_contractor_notified_parents</th>\n",
              "      <th>have_you_alerted_opt</th>\n",
              "      <th>informed_on</th>\n",
              "      <th>incident_number</th>\n",
              "      <th>last_updated_on</th>\n",
              "      <th>breakdown_or_running_late</th>\n",
              "      <th>school_age_or_prek</th>\n",
              "    </tr>\n",
              "    <tr>\n",
              "      <th>bus_company_name</th>\n",
              "      <th></th>\n",
              "      <th></th>\n",
              "      <th></th>\n",
              "      <th></th>\n",
              "      <th></th>\n",
              "      <th></th>\n",
              "      <th></th>\n",
              "      <th></th>\n",
              "      <th></th>\n",
              "      <th></th>\n",
              "      <th></th>\n",
              "      <th></th>\n",
              "      <th></th>\n",
              "      <th></th>\n",
              "      <th></th>\n",
              "      <th></th>\n",
              "      <th></th>\n",
              "      <th></th>\n",
              "      <th></th>\n",
              "      <th></th>\n",
              "    </tr>\n",
              "  </thead>\n",
              "  <tbody>\n",
              "    <tr>\n",
              "      <th>G.V.C., LTD.</th>\n",
              "      <td>19394</td>\n",
              "      <td>19394</td>\n",
              "      <td>19394</td>\n",
              "      <td>19394</td>\n",
              "      <td>19394</td>\n",
              "      <td>19394</td>\n",
              "      <td>19394</td>\n",
              "      <td>19394</td>\n",
              "      <td>19394</td>\n",
              "      <td>19394</td>\n",
              "      <td>19394</td>\n",
              "      <td>19394</td>\n",
              "      <td>19394</td>\n",
              "      <td>19394</td>\n",
              "      <td>19394</td>\n",
              "      <td>19394</td>\n",
              "      <td>0</td>\n",
              "      <td>19394</td>\n",
              "      <td>19394</td>\n",
              "      <td>19394</td>\n",
              "    </tr>\n",
              "    <tr>\n",
              "      <th>LEESEL TRANSPORTATION CORP (B2192)</th>\n",
              "      <td>17200</td>\n",
              "      <td>17200</td>\n",
              "      <td>17200</td>\n",
              "      <td>17200</td>\n",
              "      <td>17200</td>\n",
              "      <td>17200</td>\n",
              "      <td>17200</td>\n",
              "      <td>17200</td>\n",
              "      <td>17200</td>\n",
              "      <td>17195</td>\n",
              "      <td>17200</td>\n",
              "      <td>17200</td>\n",
              "      <td>17200</td>\n",
              "      <td>17200</td>\n",
              "      <td>17200</td>\n",
              "      <td>17200</td>\n",
              "      <td>38</td>\n",
              "      <td>17200</td>\n",
              "      <td>17200</td>\n",
              "      <td>17200</td>\n",
              "    </tr>\n",
              "    <tr>\n",
              "      <th>RELIANT TRANS, INC. (B232</th>\n",
              "      <td>13741</td>\n",
              "      <td>13741</td>\n",
              "      <td>13741</td>\n",
              "      <td>13741</td>\n",
              "      <td>13741</td>\n",
              "      <td>13741</td>\n",
              "      <td>13741</td>\n",
              "      <td>13741</td>\n",
              "      <td>13741</td>\n",
              "      <td>11840</td>\n",
              "      <td>13741</td>\n",
              "      <td>13741</td>\n",
              "      <td>13741</td>\n",
              "      <td>13741</td>\n",
              "      <td>13741</td>\n",
              "      <td>13741</td>\n",
              "      <td>0</td>\n",
              "      <td>13741</td>\n",
              "      <td>13741</td>\n",
              "      <td>13741</td>\n",
              "    </tr>\n",
              "    <tr>\n",
              "      <th>PIONEER TRANSPORTATION CO</th>\n",
              "      <td>12017</td>\n",
              "      <td>12017</td>\n",
              "      <td>12017</td>\n",
              "      <td>12017</td>\n",
              "      <td>12017</td>\n",
              "      <td>12017</td>\n",
              "      <td>12017</td>\n",
              "      <td>12017</td>\n",
              "      <td>12017</td>\n",
              "      <td>12016</td>\n",
              "      <td>12017</td>\n",
              "      <td>12017</td>\n",
              "      <td>12017</td>\n",
              "      <td>12017</td>\n",
              "      <td>12017</td>\n",
              "      <td>12017</td>\n",
              "      <td>28</td>\n",
              "      <td>12017</td>\n",
              "      <td>12017</td>\n",
              "      <td>12017</td>\n",
              "    </tr>\n",
              "    <tr>\n",
              "      <th>BORO TRANSIT, INC.</th>\n",
              "      <td>11953</td>\n",
              "      <td>11953</td>\n",
              "      <td>11953</td>\n",
              "      <td>11953</td>\n",
              "      <td>11953</td>\n",
              "      <td>11953</td>\n",
              "      <td>11953</td>\n",
              "      <td>11953</td>\n",
              "      <td>11953</td>\n",
              "      <td>11176</td>\n",
              "      <td>11953</td>\n",
              "      <td>11953</td>\n",
              "      <td>11953</td>\n",
              "      <td>11953</td>\n",
              "      <td>11953</td>\n",
              "      <td>11953</td>\n",
              "      <td>102</td>\n",
              "      <td>11953</td>\n",
              "      <td>11953</td>\n",
              "      <td>11953</td>\n",
              "    </tr>\n",
              "    <tr>\n",
              "      <th>...</th>\n",
              "      <td>...</td>\n",
              "      <td>...</td>\n",
              "      <td>...</td>\n",
              "      <td>...</td>\n",
              "      <td>...</td>\n",
              "      <td>...</td>\n",
              "      <td>...</td>\n",
              "      <td>...</td>\n",
              "      <td>...</td>\n",
              "      <td>...</td>\n",
              "      <td>...</td>\n",
              "      <td>...</td>\n",
              "      <td>...</td>\n",
              "      <td>...</td>\n",
              "      <td>...</td>\n",
              "      <td>...</td>\n",
              "      <td>...</td>\n",
              "      <td>...</td>\n",
              "      <td>...</td>\n",
              "      <td>...</td>\n",
              "    </tr>\n",
              "    <tr>\n",
              "      <th>SMART PICK INC</th>\n",
              "      <td>1</td>\n",
              "      <td>1</td>\n",
              "      <td>1</td>\n",
              "      <td>1</td>\n",
              "      <td>1</td>\n",
              "      <td>1</td>\n",
              "      <td>1</td>\n",
              "      <td>1</td>\n",
              "      <td>1</td>\n",
              "      <td>1</td>\n",
              "      <td>1</td>\n",
              "      <td>1</td>\n",
              "      <td>1</td>\n",
              "      <td>1</td>\n",
              "      <td>1</td>\n",
              "      <td>1</td>\n",
              "      <td>0</td>\n",
              "      <td>1</td>\n",
              "      <td>1</td>\n",
              "      <td>1</td>\n",
              "    </tr>\n",
              "    <tr>\n",
              "      <th>R &amp; C TRANSIT, INC. (B2321)</th>\n",
              "      <td>1</td>\n",
              "      <td>1</td>\n",
              "      <td>1</td>\n",
              "      <td>1</td>\n",
              "      <td>1</td>\n",
              "      <td>1</td>\n",
              "      <td>1</td>\n",
              "      <td>1</td>\n",
              "      <td>1</td>\n",
              "      <td>1</td>\n",
              "      <td>1</td>\n",
              "      <td>1</td>\n",
              "      <td>1</td>\n",
              "      <td>1</td>\n",
              "      <td>1</td>\n",
              "      <td>1</td>\n",
              "      <td>1</td>\n",
              "      <td>1</td>\n",
              "      <td>1</td>\n",
              "      <td>1</td>\n",
              "    </tr>\n",
              "    <tr>\n",
              "      <th>L&amp;M Bus Corp.</th>\n",
              "      <td>1</td>\n",
              "      <td>1</td>\n",
              "      <td>1</td>\n",
              "      <td>1</td>\n",
              "      <td>1</td>\n",
              "      <td>1</td>\n",
              "      <td>1</td>\n",
              "      <td>1</td>\n",
              "      <td>1</td>\n",
              "      <td>1</td>\n",
              "      <td>1</td>\n",
              "      <td>1</td>\n",
              "      <td>1</td>\n",
              "      <td>1</td>\n",
              "      <td>1</td>\n",
              "      <td>1</td>\n",
              "      <td>0</td>\n",
              "      <td>1</td>\n",
              "      <td>1</td>\n",
              "      <td>1</td>\n",
              "    </tr>\n",
              "    <tr>\n",
              "      <th>FORTUNA BUS COMPANY</th>\n",
              "      <td>1</td>\n",
              "      <td>1</td>\n",
              "      <td>1</td>\n",
              "      <td>1</td>\n",
              "      <td>1</td>\n",
              "      <td>1</td>\n",
              "      <td>1</td>\n",
              "      <td>1</td>\n",
              "      <td>1</td>\n",
              "      <td>1</td>\n",
              "      <td>1</td>\n",
              "      <td>1</td>\n",
              "      <td>1</td>\n",
              "      <td>1</td>\n",
              "      <td>1</td>\n",
              "      <td>1</td>\n",
              "      <td>0</td>\n",
              "      <td>1</td>\n",
              "      <td>1</td>\n",
              "      <td>1</td>\n",
              "    </tr>\n",
              "    <tr>\n",
              "      <th>phillip bus service</th>\n",
              "      <td>1</td>\n",
              "      <td>1</td>\n",
              "      <td>1</td>\n",
              "      <td>1</td>\n",
              "      <td>1</td>\n",
              "      <td>1</td>\n",
              "      <td>1</td>\n",
              "      <td>1</td>\n",
              "      <td>1</td>\n",
              "      <td>1</td>\n",
              "      <td>1</td>\n",
              "      <td>1</td>\n",
              "      <td>1</td>\n",
              "      <td>1</td>\n",
              "      <td>1</td>\n",
              "      <td>1</td>\n",
              "      <td>0</td>\n",
              "      <td>1</td>\n",
              "      <td>1</td>\n",
              "      <td>1</td>\n",
              "    </tr>\n",
              "  </tbody>\n",
              "</table>\n",
              "<p>117 rows × 20 columns</p>\n",
              "</div>"
            ],
            "text/plain": [
              "                                    school_year  ...  school_age_or_prek\n",
              "bus_company_name                                 ...                    \n",
              "G.V.C., LTD.                              19394  ...               19394\n",
              "LEESEL TRANSPORTATION CORP (B2192)        17200  ...               17200\n",
              "RELIANT TRANS, INC. (B232                 13741  ...               13741\n",
              "PIONEER TRANSPORTATION CO                 12017  ...               12017\n",
              "BORO TRANSIT, INC.                        11953  ...               11953\n",
              "...                                         ...  ...                 ...\n",
              "SMART PICK INC                                1  ...                   1\n",
              "R & C TRANSIT, INC. (B2321)                   1  ...                   1\n",
              "L&M Bus Corp.                                 1  ...                   1\n",
              "FORTUNA BUS COMPANY                           1  ...                   1\n",
              "phillip bus service                           1  ...                   1\n",
              "\n",
              "[117 rows x 20 columns]"
            ]
          },
          "metadata": {},
          "execution_count": 46
        }
      ]
    },
    {
      "cell_type": "code",
      "metadata": {
        "id": "dYtdLdxHfVrh",
        "colab": {
          "base_uri": "https://localhost:8080/",
          "height": 359
        },
        "outputId": "a9f1d47f-f42d-4b41-d89d-e6bc1d77e175"
      },
      "source": [
        "# 2. What were the top 3 reasons for bus delays?\n",
        "# ---\n",
        "#\n",
        "bus_delay = busbreakdown_clean.groupby(['reason']).count()[['how_long_delayed']].reset_index()\n",
        "\n",
        "# Sort to get the most frequent reason\n",
        "# ---\n",
        "# YOUR CODE GOES BELOW\n",
        "#\n",
        "bus_delay.sort_values(by='how_long_delayed', ascending = 0)"
      ],
      "execution_count": 49,
      "outputs": [
        {
          "output_type": "execute_result",
          "data": {
            "text/html": [
              "<div>\n",
              "<style scoped>\n",
              "    .dataframe tbody tr th:only-of-type {\n",
              "        vertical-align: middle;\n",
              "    }\n",
              "\n",
              "    .dataframe tbody tr th {\n",
              "        vertical-align: top;\n",
              "    }\n",
              "\n",
              "    .dataframe thead th {\n",
              "        text-align: right;\n",
              "    }\n",
              "</style>\n",
              "<table border=\"1\" class=\"dataframe\">\n",
              "  <thead>\n",
              "    <tr style=\"text-align: right;\">\n",
              "      <th></th>\n",
              "      <th>reason</th>\n",
              "      <th>how_long_delayed</th>\n",
              "    </tr>\n",
              "  </thead>\n",
              "  <tbody>\n",
              "    <tr>\n",
              "      <th>3</th>\n",
              "      <td>Heavy Traffic</td>\n",
              "      <td>173221</td>\n",
              "    </tr>\n",
              "    <tr>\n",
              "      <th>6</th>\n",
              "      <td>Other</td>\n",
              "      <td>37579</td>\n",
              "    </tr>\n",
              "    <tr>\n",
              "      <th>5</th>\n",
              "      <td>Mechanical Problem</td>\n",
              "      <td>28162</td>\n",
              "    </tr>\n",
              "    <tr>\n",
              "      <th>9</th>\n",
              "      <td>Won`t Start</td>\n",
              "      <td>12283</td>\n",
              "    </tr>\n",
              "    <tr>\n",
              "      <th>2</th>\n",
              "      <td>Flat Tire</td>\n",
              "      <td>8411</td>\n",
              "    </tr>\n",
              "    <tr>\n",
              "      <th>8</th>\n",
              "      <td>Weather Conditions</td>\n",
              "      <td>6932</td>\n",
              "    </tr>\n",
              "    <tr>\n",
              "      <th>4</th>\n",
              "      <td>Late return from Field Trip</td>\n",
              "      <td>5704</td>\n",
              "    </tr>\n",
              "    <tr>\n",
              "      <th>7</th>\n",
              "      <td>Problem Run</td>\n",
              "      <td>4068</td>\n",
              "    </tr>\n",
              "    <tr>\n",
              "      <th>0</th>\n",
              "      <td>Accident</td>\n",
              "      <td>2526</td>\n",
              "    </tr>\n",
              "    <tr>\n",
              "      <th>1</th>\n",
              "      <td>Delayed by School</td>\n",
              "      <td>2222</td>\n",
              "    </tr>\n",
              "  </tbody>\n",
              "</table>\n",
              "</div>"
            ],
            "text/plain": [
              "                        reason  how_long_delayed\n",
              "3                Heavy Traffic            173221\n",
              "6                        Other             37579\n",
              "5           Mechanical Problem             28162\n",
              "9                  Won`t Start             12283\n",
              "2                    Flat Tire              8411\n",
              "8           Weather Conditions              6932\n",
              "4  Late return from Field Trip              5704\n",
              "7                  Problem Run              4068\n",
              "0                     Accident              2526\n",
              "1            Delayed by School              2222"
            ]
          },
          "metadata": {},
          "execution_count": 49
        }
      ]
    },
    {
      "cell_type": "code",
      "metadata": {
        "id": "8aTP8trqsK3g",
        "colab": {
          "base_uri": "https://localhost:8080/"
        },
        "outputId": "0c04a81a-06cf-4765-a756-47eaa80a6d96"
      },
      "source": [
        "# 3. How many students were in the buses when they broke down? \n",
        "# ---\n",
        "#\n",
        "studentsonbus = busbreakdown_clean.groupby(['number_of_students_on_the_bus']).count()[['busbreakdown_id']].reset_index()\n",
        "studentsonbus['number_of_students_on_the_bus'].sum() "
      ],
      "execution_count": 53,
      "outputs": [
        {
          "output_type": "execute_result",
          "data": {
            "text/plain": [
              "310996"
            ]
          },
          "metadata": {},
          "execution_count": 53
        }
      ]
    },
    {
      "cell_type": "code",
      "metadata": {
        "id": "jz7jXe8BtLGw",
        "colab": {
          "base_uri": "https://localhost:8080/",
          "height": 100
        },
        "outputId": "b771a341-8eb1-4610-8a95-1d4c98a26be8"
      },
      "source": [
        "# 4. Which were most frequent reasons for bus breakdowns?\n",
        "# ---\n",
        "#\n",
        "breakdown_reasons = busbreakdown_clean[busbreakdown_clean.breakdown_or_running_late == 'breakdown'].groupby(['reason']).count()\n",
        "\n",
        "# Sort to get most frequent reasons\n",
        "# ---\n",
        "# YOUR CODE GOES BELOW\n",
        "#\n",
        "breakdown_reasons.head(2)\n",
        "#breakdown_reasons.sort_values(by='how_long_delayed', ascending = 0)"
      ],
      "execution_count": 59,
      "outputs": [
        {
          "output_type": "execute_result",
          "data": {
            "text/html": [
              "<div>\n",
              "<style scoped>\n",
              "    .dataframe tbody tr th:only-of-type {\n",
              "        vertical-align: middle;\n",
              "    }\n",
              "\n",
              "    .dataframe tbody tr th {\n",
              "        vertical-align: top;\n",
              "    }\n",
              "\n",
              "    .dataframe thead th {\n",
              "        text-align: right;\n",
              "    }\n",
              "</style>\n",
              "<table border=\"1\" class=\"dataframe\">\n",
              "  <thead>\n",
              "    <tr style=\"text-align: right;\">\n",
              "      <th></th>\n",
              "      <th>school_year</th>\n",
              "      <th>busbreakdown_id</th>\n",
              "      <th>run_type</th>\n",
              "      <th>bus_no</th>\n",
              "      <th>route_number</th>\n",
              "      <th>schools_serviced</th>\n",
              "      <th>occurred_on</th>\n",
              "      <th>created_on</th>\n",
              "      <th>borough</th>\n",
              "      <th>bus_company_name</th>\n",
              "      <th>how_long_delayed</th>\n",
              "      <th>number_of_students_on_the_bus</th>\n",
              "      <th>has_contractor_notified_schools</th>\n",
              "      <th>has_contractor_notified_parents</th>\n",
              "      <th>have_you_alerted_opt</th>\n",
              "      <th>informed_on</th>\n",
              "      <th>incident_number</th>\n",
              "      <th>last_updated_on</th>\n",
              "      <th>breakdown_or_running_late</th>\n",
              "      <th>school_age_or_prek</th>\n",
              "    </tr>\n",
              "    <tr>\n",
              "      <th>reason</th>\n",
              "      <th></th>\n",
              "      <th></th>\n",
              "      <th></th>\n",
              "      <th></th>\n",
              "      <th></th>\n",
              "      <th></th>\n",
              "      <th></th>\n",
              "      <th></th>\n",
              "      <th></th>\n",
              "      <th></th>\n",
              "      <th></th>\n",
              "      <th></th>\n",
              "      <th></th>\n",
              "      <th></th>\n",
              "      <th></th>\n",
              "      <th></th>\n",
              "      <th></th>\n",
              "      <th></th>\n",
              "      <th></th>\n",
              "      <th></th>\n",
              "    </tr>\n",
              "  </thead>\n",
              "  <tbody>\n",
              "  </tbody>\n",
              "</table>\n",
              "</div>"
            ],
            "text/plain": [
              "Empty DataFrame\n",
              "Columns: [school_year, busbreakdown_id, run_type, bus_no, route_number, schools_serviced, occurred_on, created_on, borough, bus_company_name, how_long_delayed, number_of_students_on_the_bus, has_contractor_notified_schools, has_contractor_notified_parents, have_you_alerted_opt, informed_on, incident_number, last_updated_on, breakdown_or_running_late, school_age_or_prek]\n",
              "Index: []"
            ]
          },
          "metadata": {},
          "execution_count": 59
        }
      ]
    },
    {
      "cell_type": "code",
      "metadata": {
        "id": "OKfAq-PGwhbM",
        "colab": {
          "base_uri": "https://localhost:8080/"
        },
        "outputId": "f22c7450-d7ef-4614-b9e2-e97443be078a"
      },
      "source": [
        "# 5. What were the most frequent reasons for the bus running late? \n",
        "# ---\n",
        "#\n",
        "reasons = busbreakdown_clean.groupby(['reason','how_long_delayed']).count()\n",
        "\n",
        "# Get the records with running late reasons and sort to get most frequent reasons\n",
        "# ---\n",
        "# YOUR CODE GOES BELOW\n",
        "#\n",
        "#reasons['breakdown_or_running_late']\n",
        "#reasons.sort_values(by='', ascending = 0)\n",
        "running_late = busbreakdown_clean[busbreakdown_clean.breakdown_or_running_late.isin(['Running Late'])].count()\n",
        "#running_late.sort_values(by='reason', ascending = 0)\n",
        "running_late.head()"
      ],
      "execution_count": 80,
      "outputs": [
        {
          "output_type": "execute_result",
          "data": {
            "text/plain": [
              "school_year        250053\n",
              "busbreakdown_id    250053\n",
              "run_type           250051\n",
              "bus_no             250044\n",
              "route_number       250046\n",
              "dtype: int64"
            ]
          },
          "metadata": {},
          "execution_count": 80
        }
      ]
    },
    {
      "cell_type": "code",
      "metadata": {
        "id": "wwG_TiwDyvEP",
        "colab": {
          "base_uri": "https://localhost:8080/",
          "height": 359
        },
        "outputId": "8caa3fe4-67ee-4788-dc10-289e423043e6"
      },
      "source": [
        "# 6. What was the average delay time for each reason type?\n",
        "# ---\n",
        "# \n",
        "avg_delay = busbreakdown_clean.groupby('reason').mean().reset_index()\n",
        "\n",
        "# Get the records with reasons and how long on average a delay took then sort \n",
        "# ---\n",
        "# YOUR CODE GOES BELOW\n",
        "#\n",
        "avg_delay.sort_values(by='how_long_delayed', ascending = 0)"
      ],
      "execution_count": 88,
      "outputs": [
        {
          "output_type": "execute_result",
          "data": {
            "text/html": [
              "<div>\n",
              "<style scoped>\n",
              "    .dataframe tbody tr th:only-of-type {\n",
              "        vertical-align: middle;\n",
              "    }\n",
              "\n",
              "    .dataframe tbody tr th {\n",
              "        vertical-align: top;\n",
              "    }\n",
              "\n",
              "    .dataframe thead th {\n",
              "        text-align: right;\n",
              "    }\n",
              "</style>\n",
              "<table border=\"1\" class=\"dataframe\">\n",
              "  <thead>\n",
              "    <tr style=\"text-align: right;\">\n",
              "      <th></th>\n",
              "      <th>reason</th>\n",
              "      <th>busbreakdown_id</th>\n",
              "      <th>how_long_delayed</th>\n",
              "      <th>number_of_students_on_the_bus</th>\n",
              "    </tr>\n",
              "  </thead>\n",
              "  <tbody>\n",
              "    <tr>\n",
              "      <th>4</th>\n",
              "      <td>Late return from Field Trip</td>\n",
              "      <td>1.351422e+06</td>\n",
              "      <td>62.235975</td>\n",
              "      <td>4.396739</td>\n",
              "    </tr>\n",
              "    <tr>\n",
              "      <th>0</th>\n",
              "      <td>Accident</td>\n",
              "      <td>1.354223e+06</td>\n",
              "      <td>34.965162</td>\n",
              "      <td>6.305622</td>\n",
              "    </tr>\n",
              "    <tr>\n",
              "      <th>7</th>\n",
              "      <td>Problem Run</td>\n",
              "      <td>1.351041e+06</td>\n",
              "      <td>31.136676</td>\n",
              "      <td>6.407080</td>\n",
              "    </tr>\n",
              "    <tr>\n",
              "      <th>5</th>\n",
              "      <td>Mechanical Problem</td>\n",
              "      <td>1.360663e+06</td>\n",
              "      <td>30.915205</td>\n",
              "      <td>1.552376</td>\n",
              "    </tr>\n",
              "    <tr>\n",
              "      <th>9</th>\n",
              "      <td>Won`t Start</td>\n",
              "      <td>1.346269e+06</td>\n",
              "      <td>29.644061</td>\n",
              "      <td>0.920215</td>\n",
              "    </tr>\n",
              "    <tr>\n",
              "      <th>2</th>\n",
              "      <td>Flat Tire</td>\n",
              "      <td>1.355114e+06</td>\n",
              "      <td>29.392343</td>\n",
              "      <td>1.720723</td>\n",
              "    </tr>\n",
              "    <tr>\n",
              "      <th>8</th>\n",
              "      <td>Weather Conditions</td>\n",
              "      <td>1.333248e+06</td>\n",
              "      <td>29.227351</td>\n",
              "      <td>2.378823</td>\n",
              "    </tr>\n",
              "    <tr>\n",
              "      <th>6</th>\n",
              "      <td>Other</td>\n",
              "      <td>1.343447e+06</td>\n",
              "      <td>28.421006</td>\n",
              "      <td>2.737965</td>\n",
              "    </tr>\n",
              "    <tr>\n",
              "      <th>3</th>\n",
              "      <td>Heavy Traffic</td>\n",
              "      <td>1.360074e+06</td>\n",
              "      <td>26.225550</td>\n",
              "      <td>3.926447</td>\n",
              "    </tr>\n",
              "    <tr>\n",
              "      <th>1</th>\n",
              "      <td>Delayed by School</td>\n",
              "      <td>1.334782e+06</td>\n",
              "      <td>18.907741</td>\n",
              "      <td>5.882088</td>\n",
              "    </tr>\n",
              "  </tbody>\n",
              "</table>\n",
              "</div>"
            ],
            "text/plain": [
              "                        reason  ...  number_of_students_on_the_bus\n",
              "4  Late return from Field Trip  ...                       4.396739\n",
              "0                     Accident  ...                       6.305622\n",
              "7                  Problem Run  ...                       6.407080\n",
              "5           Mechanical Problem  ...                       1.552376\n",
              "9                  Won`t Start  ...                       0.920215\n",
              "2                    Flat Tire  ...                       1.720723\n",
              "8           Weather Conditions  ...                       2.378823\n",
              "6                        Other  ...                       2.737965\n",
              "3                Heavy Traffic  ...                       3.926447\n",
              "1            Delayed by School  ...                       5.882088\n",
              "\n",
              "[10 rows x 4 columns]"
            ]
          },
          "metadata": {},
          "execution_count": 88
        }
      ]
    },
    {
      "cell_type": "markdown",
      "metadata": {
        "id": "cpmGSOOqIMrt"
      },
      "source": [
        "### 5.b) Recommendations"
      ]
    },
    {
      "cell_type": "markdown",
      "metadata": {
        "id": "wDn2whdV0Zcg"
      },
      "source": [
        "From the above analysis, below are our recommendations:\n",
        "\n",
        "1.   heavy traffic seemed to be a major reason for bus delays, recommend to use routes with lower traffic or set pick up times to off peak hours\n",
        "2.   more evenly distribute the schools services by 1 bus compay to reduce lateness or breakdowns\n",
        "\n",
        "\n",
        "\n"
      ]
    },
    {
      "cell_type": "markdown",
      "metadata": {
        "id": "noZz5YRQXKzi"
      },
      "source": [
        "## 6. Challenging your Solution"
      ]
    },
    {
      "cell_type": "markdown",
      "metadata": {
        "id": "wdMBFVe0XSgf"
      },
      "source": [
        "During this step, we review our solution and implement  approaches that could potentially provide a better outcome. In our case, we could propose the following question that wasn't answered in our solution because it couldn't have greatly contributed to our recommendation."
      ]
    },
    {
      "cell_type": "code",
      "metadata": {
        "id": "VNx-Yqb8XKzk",
        "colab": {
          "base_uri": "https://localhost:8080/",
          "height": 510
        },
        "outputId": "8a9f9979-11e3-4201-98f1-73396b9388ed"
      },
      "source": [
        "# Which boroughs experienced the most breakdowns?\n",
        "# ---  \n",
        "#\n",
        "breakdowns = busbreakdown_clean.groupby(['borough']).count()\n",
        "\n",
        "# Sort to get bus company with highest breakdowns\n",
        "# ---\n",
        "# YOUR CODE GOES BELOW\n",
        "#\n",
        "breakdowns.sort_values(by='bus_company_name',ascending=0)"
      ],
      "execution_count": 84,
      "outputs": [
        {
          "output_type": "execute_result",
          "data": {
            "text/html": [
              "<div>\n",
              "<style scoped>\n",
              "    .dataframe tbody tr th:only-of-type {\n",
              "        vertical-align: middle;\n",
              "    }\n",
              "\n",
              "    .dataframe tbody tr th {\n",
              "        vertical-align: top;\n",
              "    }\n",
              "\n",
              "    .dataframe thead th {\n",
              "        text-align: right;\n",
              "    }\n",
              "</style>\n",
              "<table border=\"1\" class=\"dataframe\">\n",
              "  <thead>\n",
              "    <tr style=\"text-align: right;\">\n",
              "      <th></th>\n",
              "      <th>school_year</th>\n",
              "      <th>busbreakdown_id</th>\n",
              "      <th>run_type</th>\n",
              "      <th>bus_no</th>\n",
              "      <th>route_number</th>\n",
              "      <th>reason</th>\n",
              "      <th>schools_serviced</th>\n",
              "      <th>occurred_on</th>\n",
              "      <th>created_on</th>\n",
              "      <th>bus_company_name</th>\n",
              "      <th>how_long_delayed</th>\n",
              "      <th>number_of_students_on_the_bus</th>\n",
              "      <th>has_contractor_notified_schools</th>\n",
              "      <th>has_contractor_notified_parents</th>\n",
              "      <th>have_you_alerted_opt</th>\n",
              "      <th>informed_on</th>\n",
              "      <th>incident_number</th>\n",
              "      <th>last_updated_on</th>\n",
              "      <th>breakdown_or_running_late</th>\n",
              "      <th>school_age_or_prek</th>\n",
              "    </tr>\n",
              "    <tr>\n",
              "      <th>borough</th>\n",
              "      <th></th>\n",
              "      <th></th>\n",
              "      <th></th>\n",
              "      <th></th>\n",
              "      <th></th>\n",
              "      <th></th>\n",
              "      <th></th>\n",
              "      <th></th>\n",
              "      <th></th>\n",
              "      <th></th>\n",
              "      <th></th>\n",
              "      <th></th>\n",
              "      <th></th>\n",
              "      <th></th>\n",
              "      <th></th>\n",
              "      <th></th>\n",
              "      <th></th>\n",
              "      <th></th>\n",
              "      <th></th>\n",
              "      <th></th>\n",
              "    </tr>\n",
              "  </thead>\n",
              "  <tbody>\n",
              "    <tr>\n",
              "      <th>Bronx</th>\n",
              "      <td>70952</td>\n",
              "      <td>70952</td>\n",
              "      <td>70952</td>\n",
              "      <td>70949</td>\n",
              "      <td>70952</td>\n",
              "      <td>70952</td>\n",
              "      <td>70952</td>\n",
              "      <td>70952</td>\n",
              "      <td>70952</td>\n",
              "      <td>70952</td>\n",
              "      <td>70952</td>\n",
              "      <td>70952</td>\n",
              "      <td>70952</td>\n",
              "      <td>70952</td>\n",
              "      <td>70952</td>\n",
              "      <td>70952</td>\n",
              "      <td>4276</td>\n",
              "      <td>70952</td>\n",
              "      <td>70952</td>\n",
              "      <td>70952</td>\n",
              "    </tr>\n",
              "    <tr>\n",
              "      <th>Manhattan</th>\n",
              "      <td>68177</td>\n",
              "      <td>68177</td>\n",
              "      <td>68176</td>\n",
              "      <td>68176</td>\n",
              "      <td>68176</td>\n",
              "      <td>68177</td>\n",
              "      <td>68176</td>\n",
              "      <td>68177</td>\n",
              "      <td>68177</td>\n",
              "      <td>68177</td>\n",
              "      <td>68177</td>\n",
              "      <td>68177</td>\n",
              "      <td>68177</td>\n",
              "      <td>68177</td>\n",
              "      <td>68177</td>\n",
              "      <td>68177</td>\n",
              "      <td>1395</td>\n",
              "      <td>68177</td>\n",
              "      <td>68177</td>\n",
              "      <td>68177</td>\n",
              "    </tr>\n",
              "    <tr>\n",
              "      <th>Brooklyn</th>\n",
              "      <td>62239</td>\n",
              "      <td>62239</td>\n",
              "      <td>62238</td>\n",
              "      <td>62238</td>\n",
              "      <td>62239</td>\n",
              "      <td>62239</td>\n",
              "      <td>62239</td>\n",
              "      <td>62239</td>\n",
              "      <td>62239</td>\n",
              "      <td>62239</td>\n",
              "      <td>62239</td>\n",
              "      <td>62239</td>\n",
              "      <td>62239</td>\n",
              "      <td>62239</td>\n",
              "      <td>62239</td>\n",
              "      <td>62239</td>\n",
              "      <td>2230</td>\n",
              "      <td>62239</td>\n",
              "      <td>62239</td>\n",
              "      <td>62239</td>\n",
              "    </tr>\n",
              "    <tr>\n",
              "      <th>Queens</th>\n",
              "      <td>38060</td>\n",
              "      <td>38060</td>\n",
              "      <td>38059</td>\n",
              "      <td>38056</td>\n",
              "      <td>38054</td>\n",
              "      <td>38058</td>\n",
              "      <td>38054</td>\n",
              "      <td>38060</td>\n",
              "      <td>38060</td>\n",
              "      <td>38060</td>\n",
              "      <td>38060</td>\n",
              "      <td>38060</td>\n",
              "      <td>38060</td>\n",
              "      <td>38060</td>\n",
              "      <td>38060</td>\n",
              "      <td>38060</td>\n",
              "      <td>674</td>\n",
              "      <td>38060</td>\n",
              "      <td>38060</td>\n",
              "      <td>38060</td>\n",
              "    </tr>\n",
              "    <tr>\n",
              "      <th>Staten Island</th>\n",
              "      <td>13907</td>\n",
              "      <td>13907</td>\n",
              "      <td>13907</td>\n",
              "      <td>13907</td>\n",
              "      <td>13907</td>\n",
              "      <td>13907</td>\n",
              "      <td>13907</td>\n",
              "      <td>13907</td>\n",
              "      <td>13907</td>\n",
              "      <td>13907</td>\n",
              "      <td>13907</td>\n",
              "      <td>13907</td>\n",
              "      <td>13907</td>\n",
              "      <td>13907</td>\n",
              "      <td>13907</td>\n",
              "      <td>13907</td>\n",
              "      <td>270</td>\n",
              "      <td>13907</td>\n",
              "      <td>13907</td>\n",
              "      <td>13907</td>\n",
              "    </tr>\n",
              "    <tr>\n",
              "      <th>Westchester</th>\n",
              "      <td>7093</td>\n",
              "      <td>7093</td>\n",
              "      <td>7093</td>\n",
              "      <td>7093</td>\n",
              "      <td>7093</td>\n",
              "      <td>7093</td>\n",
              "      <td>7093</td>\n",
              "      <td>7093</td>\n",
              "      <td>7093</td>\n",
              "      <td>7093</td>\n",
              "      <td>7093</td>\n",
              "      <td>7093</td>\n",
              "      <td>7093</td>\n",
              "      <td>7093</td>\n",
              "      <td>7093</td>\n",
              "      <td>7093</td>\n",
              "      <td>298</td>\n",
              "      <td>7093</td>\n",
              "      <td>7093</td>\n",
              "      <td>7093</td>\n",
              "    </tr>\n",
              "    <tr>\n",
              "      <th>Nassau County</th>\n",
              "      <td>4124</td>\n",
              "      <td>4124</td>\n",
              "      <td>4124</td>\n",
              "      <td>4124</td>\n",
              "      <td>4124</td>\n",
              "      <td>4124</td>\n",
              "      <td>4124</td>\n",
              "      <td>4124</td>\n",
              "      <td>4124</td>\n",
              "      <td>4124</td>\n",
              "      <td>4124</td>\n",
              "      <td>4124</td>\n",
              "      <td>4124</td>\n",
              "      <td>4124</td>\n",
              "      <td>4124</td>\n",
              "      <td>4124</td>\n",
              "      <td>193</td>\n",
              "      <td>4124</td>\n",
              "      <td>4124</td>\n",
              "      <td>4124</td>\n",
              "    </tr>\n",
              "    <tr>\n",
              "      <th>New Jersey</th>\n",
              "      <td>1583</td>\n",
              "      <td>1583</td>\n",
              "      <td>1583</td>\n",
              "      <td>1583</td>\n",
              "      <td>1583</td>\n",
              "      <td>1583</td>\n",
              "      <td>1583</td>\n",
              "      <td>1583</td>\n",
              "      <td>1583</td>\n",
              "      <td>1583</td>\n",
              "      <td>1583</td>\n",
              "      <td>1583</td>\n",
              "      <td>1583</td>\n",
              "      <td>1583</td>\n",
              "      <td>1583</td>\n",
              "      <td>1583</td>\n",
              "      <td>13</td>\n",
              "      <td>1583</td>\n",
              "      <td>1583</td>\n",
              "      <td>1583</td>\n",
              "    </tr>\n",
              "    <tr>\n",
              "      <th>Rockland County</th>\n",
              "      <td>875</td>\n",
              "      <td>875</td>\n",
              "      <td>875</td>\n",
              "      <td>875</td>\n",
              "      <td>875</td>\n",
              "      <td>875</td>\n",
              "      <td>875</td>\n",
              "      <td>875</td>\n",
              "      <td>875</td>\n",
              "      <td>875</td>\n",
              "      <td>875</td>\n",
              "      <td>875</td>\n",
              "      <td>875</td>\n",
              "      <td>875</td>\n",
              "      <td>875</td>\n",
              "      <td>875</td>\n",
              "      <td>9</td>\n",
              "      <td>875</td>\n",
              "      <td>875</td>\n",
              "      <td>875</td>\n",
              "    </tr>\n",
              "    <tr>\n",
              "      <th>All Boroughs</th>\n",
              "      <td>429</td>\n",
              "      <td>429</td>\n",
              "      <td>429</td>\n",
              "      <td>429</td>\n",
              "      <td>429</td>\n",
              "      <td>429</td>\n",
              "      <td>429</td>\n",
              "      <td>429</td>\n",
              "      <td>429</td>\n",
              "      <td>429</td>\n",
              "      <td>429</td>\n",
              "      <td>429</td>\n",
              "      <td>429</td>\n",
              "      <td>429</td>\n",
              "      <td>429</td>\n",
              "      <td>429</td>\n",
              "      <td>19</td>\n",
              "      <td>429</td>\n",
              "      <td>429</td>\n",
              "      <td>429</td>\n",
              "    </tr>\n",
              "    <tr>\n",
              "      <th>Connecticut</th>\n",
              "      <td>210</td>\n",
              "      <td>210</td>\n",
              "      <td>210</td>\n",
              "      <td>210</td>\n",
              "      <td>210</td>\n",
              "      <td>210</td>\n",
              "      <td>210</td>\n",
              "      <td>210</td>\n",
              "      <td>210</td>\n",
              "      <td>210</td>\n",
              "      <td>210</td>\n",
              "      <td>210</td>\n",
              "      <td>210</td>\n",
              "      <td>210</td>\n",
              "      <td>210</td>\n",
              "      <td>210</td>\n",
              "      <td>49</td>\n",
              "      <td>210</td>\n",
              "      <td>210</td>\n",
              "      <td>210</td>\n",
              "    </tr>\n",
              "  </tbody>\n",
              "</table>\n",
              "</div>"
            ],
            "text/plain": [
              "                 school_year  ...  school_age_or_prek\n",
              "borough                       ...                    \n",
              "Bronx                  70952  ...               70952\n",
              "Manhattan              68177  ...               68177\n",
              "Brooklyn               62239  ...               62239\n",
              "Queens                 38060  ...               38060\n",
              "Staten Island          13907  ...               13907\n",
              "Westchester             7093  ...                7093\n",
              "Nassau County           4124  ...                4124\n",
              "New Jersey              1583  ...                1583\n",
              "Rockland County          875  ...                 875\n",
              "All Boroughs             429  ...                 429\n",
              "Connecticut              210  ...                 210\n",
              "\n",
              "[11 rows x 20 columns]"
            ]
          },
          "metadata": {},
          "execution_count": 84
        }
      ]
    },
    {
      "cell_type": "markdown",
      "metadata": {
        "id": "k6kKzd-F1UW7"
      },
      "source": [
        "Our observations:\n",
        "\n",
        "1.   Bronx borough has the highest no of breakdowns, conneticut has the lowest\n",
        "2.  \n",
        "\n",
        "\n",
        "How does this observation tie to our solution? ANSWER:  this observation shows there could be factors at play in bronx affecting buses that may not be present in those ares with lower breakdowns\n",
        "\n"
      ]
    },
    {
      "cell_type": "markdown",
      "metadata": {
        "id": "xrmHVMVsVS--"
      },
      "source": [
        "## 7. Follow up questions"
      ]
    },
    {
      "cell_type": "markdown",
      "metadata": {
        "id": "pth2qSWhuBIy"
      },
      "source": [
        "During this step, you rethink and propose other ways that you can improve your solution."
      ]
    },
    {
      "cell_type": "markdown",
      "metadata": {
        "id": "HPQviDmNtta8"
      },
      "source": [
        "### a). Did we have the right data?\n",
        "\n",
        "the data was relevant, however we needed other data to improve the solution"
      ]
    },
    {
      "cell_type": "markdown",
      "metadata": {
        "id": "qjFHK1CKty7o"
      },
      "source": [
        "### b). Do we need other data to answer our question?"
      ]
    },
    {
      "cell_type": "markdown",
      "metadata": {
        "id": "SyJMFjvmKePc"
      },
      "source": [
        "You can look into the questions you brainstormed that you weren't taken into account during analysis due to a lack of data. Were those questions important to have been left out  of your analysis?\n",
        "\n",
        "Answer: we were missing key data such as incident IDs, to identify if these cases were unique or logged on the system at all for a more complete view of the data"
      ]
    },
    {
      "cell_type": "markdown",
      "metadata": {
        "id": "HSsicSdvt4Zs"
      },
      "source": [
        "### c). Did we have the right question?"
      ]
    },
    {
      "cell_type": "markdown",
      "metadata": {
        "id": "DvVFZGvNKfSv"
      },
      "source": [
        "Were there any other questions that we needed to have answered?"
      ]
    },
    {
      "cell_type": "markdown",
      "metadata": {
        "id": "6WfLgg7Ue63E"
      },
      "source": [
        "Answer: yes,\n",
        "*   what routes had the highest number of buses running late or delayed\n",
        "*   opt alerted routes vs parents alerted\n",
        "*   number of schools services compared to breakdowns\n",
        "\n"
      ]
    }
  ]
}